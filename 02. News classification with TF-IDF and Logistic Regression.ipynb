{
 "cells": [
  {
   "cell_type": "markdown",
   "id": "19a74117-12b0-4f4b-b0c7-6ef0d97ecc6f",
   "metadata": {},
   "source": [
    "# 02. News classification with TF-IDF and Logistic Regression"
   ]
  },
  {
   "cell_type": "markdown",
   "id": "9147a2fa-0485-4aaa-9d43-683e0dcc7fab",
   "metadata": {},
   "source": [
    "Author: [ArtyomR](https://github.com/ArtyomR)  \n",
    "Source: [02. News classification with TF-IDF and Logistic Regression.ipynb](https://github.com/ArtyomR/AI-News-Classification/blob/main/02.%20News%20classification%20with%20TF-IDF%20and%20Logistic%20Regression.ipynb)\n",
    "\n",
    "**In this Notebook I'll walk through News classification with TF-IDF and Logistic Regression**  \n",
    "Next steps were implemented.\n",
    "1. Text preparation\n",
    "2. TF-IDF vectorization\n",
    "3. Logistic Regression classification\n",
    "\n",
    "Dataset was creted within [Chinese AI news agregation project](https://t.me/chinese_ai_news).  \n",
    "These vectorizer and classification module are used in [Chinese AI news agregation project](https://t.me/chinese_ai_news) since 07.12.23"
   ]
  },
  {
   "cell_type": "markdown",
   "id": "37b312cd-fb21-4f4b-866d-d53ea850e58f",
   "metadata": {},
   "source": [
    "## Importing Necessary Libraries"
   ]
  },
  {
   "cell_type": "code",
   "execution_count": 104,
   "id": "0b8abb8f-5f71-4dbf-94d6-a80e90832cd3",
   "metadata": {},
   "outputs": [],
   "source": [
    "import pandas as pd\n",
    "from sklearn.model_selection import train_test_split\n",
    "from pymystem3 import Mystem\n",
    "import re\n",
    "from tqdm import tqdm\n",
    "from sklearn.feature_extraction.text import TfidfVectorizer\n",
    "from sklearn import feature_selection\n",
    "import numpy as np\n",
    "from sklearn.linear_model import LogisticRegression\n",
    "from sklearn.metrics import accuracy_score, classification_report\n",
    "import joblib"
   ]
  },
  {
   "cell_type": "markdown",
   "id": "364202ce-e29c-4730-b02f-e9d1dbb64416",
   "metadata": {},
   "source": [
    "## Data upload and preparation"
   ]
  },
  {
   "cell_type": "code",
   "execution_count": 2,
   "id": "61d46991-9eff-4092-b99d-4063bfca5f66",
   "metadata": {},
   "outputs": [],
   "source": [
    "#Read dataset\n",
    "data = pd.read_excel('ai_articles_prep_231124.xlsx', index_col=0)"
   ]
  },
  {
   "cell_type": "code",
   "execution_count": 3,
   "id": "2e0594ab-471e-4a57-b782-8da834747296",
   "metadata": {},
   "outputs": [
    {
     "data": {
      "text/html": [
       "<div>\n",
       "<style scoped>\n",
       "    .dataframe tbody tr th:only-of-type {\n",
       "        vertical-align: middle;\n",
       "    }\n",
       "\n",
       "    .dataframe tbody tr th {\n",
       "        vertical-align: top;\n",
       "    }\n",
       "\n",
       "    .dataframe thead th {\n",
       "        text-align: right;\n",
       "    }\n",
       "</style>\n",
       "<table border=\"1\" class=\"dataframe\">\n",
       "  <thead>\n",
       "    <tr style=\"text-align: right;\">\n",
       "      <th></th>\n",
       "      <th>publication</th>\n",
       "      <th>url</th>\n",
       "      <th>title</th>\n",
       "      <th>title_ru</th>\n",
       "      <th>paragraph_one</th>\n",
       "      <th>paragraph_one_ru</th>\n",
       "      <th>publish_date</th>\n",
       "      <th>top_image</th>\n",
       "      <th>msg_id</th>\n",
       "      <th>tags</th>\n",
       "      <th>publish_date_tg</th>\n",
       "      <th>published_flag</th>\n",
       "      <th>language</th>\n",
       "      <th>combined_text_ru</th>\n",
       "    </tr>\n",
       "  </thead>\n",
       "  <tbody>\n",
       "    <tr>\n",
       "      <th>0</th>\n",
       "      <td>Published</td>\n",
       "      <td>https://www.scmp.com/tech/article/3242683/brit...</td>\n",
       "      <td>British AI chip darling Graphcore pulls out of...</td>\n",
       "      <td>Британский разработчик чипов искусственного ин...</td>\n",
       "      <td>The British graphics processing unit maker Gra...</td>\n",
       "      <td>Британский производитель графических процессор...</td>\n",
       "      <td>2023-11-24 15:00:09</td>\n",
       "      <td>https://cdn.i-scmp.com/sites/default/files/sty...</td>\n",
       "      <td>1483.0</td>\n",
       "      <td>#Nvidia #чипы #спорт</td>\n",
       "      <td>2023-11-24 14:41:13</td>\n",
       "      <td>1</td>\n",
       "      <td>en</td>\n",
       "      <td>Британский разработчик чипов искусственного ин...</td>\n",
       "    </tr>\n",
       "    <tr>\n",
       "      <th>1</th>\n",
       "      <td>Published</td>\n",
       "      <td>https://www.scmp.com/week-asia/people/article/...</td>\n",
       "      <td>Asia-Pacific is new ‘ground zero’ for cybercri...</td>\n",
       "      <td>Азиатско-Тихоокеанский регион стал новым «эпиц...</td>\n",
       "      <td>The ‘attack rate’ in the Asia-Pacific is ‘well...</td>\n",
       "      <td>«Уровень атак» в Азиатско-Тихоокеанском регион...</td>\n",
       "      <td>2023-11-24 17:00:46</td>\n",
       "      <td>https://cdn.i-scmp.com/sites/default/files/sty...</td>\n",
       "      <td>1484.0</td>\n",
       "      <td>#криминал</td>\n",
       "      <td>2023-11-24 14:41:43</td>\n",
       "      <td>1</td>\n",
       "      <td>en</td>\n",
       "      <td>Азиатско-Тихоокеанский регион стал новым «эпиц...</td>\n",
       "    </tr>\n",
       "    <tr>\n",
       "      <th>2</th>\n",
       "      <td>Published</td>\n",
       "      <td>https://global.chinadaily.com.cn/a/202311/24/W...</td>\n",
       "      <td>AI's ethical governance emphasized</td>\n",
       "      <td>Подчеркнуто этическое управление ИИ</td>\n",
       "      <td>Artificial intelligence presents not only enor...</td>\n",
       "      <td>Искусственный интеллект представляет не только...</td>\n",
       "      <td>2023-11-24 00:00:00</td>\n",
       "      <td>https://img2.chinadaily.com.cn/images/202311/2...</td>\n",
       "      <td>1485.0</td>\n",
       "      <td>#риск #мероприятия</td>\n",
       "      <td>2023-11-24 14:42:14</td>\n",
       "      <td>1</td>\n",
       "      <td>en</td>\n",
       "      <td>Подчеркнуто этическое управление ИИ Искусствен...</td>\n",
       "    </tr>\n",
       "    <tr>\n",
       "      <th>3</th>\n",
       "      <td>Not published</td>\n",
       "      <td>https://www.ithome.com/0/734/820.htm</td>\n",
       "      <td>西班牙一设计师打造当地首个 AI 模特，最高月入 1 万欧元</td>\n",
       "      <td>Испанский дизайнер создает первую местную моде...</td>\n",
       "      <td>IT之家 11 月 24 日消息，据外媒 euronews 当地时间周三报道，西班牙首个 A...</td>\n",
       "      <td>24 ноября IT House сообщил, что зарубежные СМИ...</td>\n",
       "      <td>NaT</td>\n",
       "      <td>https://img.ithome.com/newsuploadfiles/2023/11...</td>\n",
       "      <td>NaN</td>\n",
       "      <td>NaN</td>\n",
       "      <td>NaN</td>\n",
       "      <td>0</td>\n",
       "      <td>cn</td>\n",
       "      <td>Испанский дизайнер создает первую местную моде...</td>\n",
       "    </tr>\n",
       "    <tr>\n",
       "      <th>4</th>\n",
       "      <td>Not published</td>\n",
       "      <td>https://www.ithome.com/0/734/870.htm</td>\n",
       "      <td>研究显示 ChatGPT 可为科学假说生成虚假数据集，对学术诚信造成威胁</td>\n",
       "      <td>Исследование показывает, что ChatGPT может ген...</td>\n",
       "      <td>IT之家 11 月 24 日消息，据《自然》杂志当地时间周三报道，本月初发表在《美国医学会眼...</td>\n",
       "      <td>IT House News от 24 ноября, согласно сообщению...</td>\n",
       "      <td>NaT</td>\n",
       "      <td>https://img.ithome.com/newsuploadfiles/2023/11...</td>\n",
       "      <td>NaN</td>\n",
       "      <td>NaN</td>\n",
       "      <td>NaN</td>\n",
       "      <td>0</td>\n",
       "      <td>cn</td>\n",
       "      <td>Исследование показывает, что ChatGPT может ген...</td>\n",
       "    </tr>\n",
       "  </tbody>\n",
       "</table>\n",
       "</div>"
      ],
      "text/plain": [
       "     publication                                                url  \\\n",
       "0      Published  https://www.scmp.com/tech/article/3242683/brit...   \n",
       "1      Published  https://www.scmp.com/week-asia/people/article/...   \n",
       "2      Published  https://global.chinadaily.com.cn/a/202311/24/W...   \n",
       "3  Not published               https://www.ithome.com/0/734/820.htm   \n",
       "4  Not published               https://www.ithome.com/0/734/870.htm   \n",
       "\n",
       "                                               title  \\\n",
       "0  British AI chip darling Graphcore pulls out of...   \n",
       "1  Asia-Pacific is new ‘ground zero’ for cybercri...   \n",
       "2                 AI's ethical governance emphasized   \n",
       "3                     西班牙一设计师打造当地首个 AI 模特，最高月入 1 万欧元   \n",
       "4               研究显示 ChatGPT 可为科学假说生成虚假数据集，对学术诚信造成威胁   \n",
       "\n",
       "                                            title_ru  \\\n",
       "0  Британский разработчик чипов искусственного ин...   \n",
       "1  Азиатско-Тихоокеанский регион стал новым «эпиц...   \n",
       "2                Подчеркнуто этическое управление ИИ   \n",
       "3  Испанский дизайнер создает первую местную моде...   \n",
       "4  Исследование показывает, что ChatGPT может ген...   \n",
       "\n",
       "                                       paragraph_one  \\\n",
       "0  The British graphics processing unit maker Gra...   \n",
       "1  The ‘attack rate’ in the Asia-Pacific is ‘well...   \n",
       "2  Artificial intelligence presents not only enor...   \n",
       "3  IT之家 11 月 24 日消息，据外媒 euronews 当地时间周三报道，西班牙首个 A...   \n",
       "4  IT之家 11 月 24 日消息，据《自然》杂志当地时间周三报道，本月初发表在《美国医学会眼...   \n",
       "\n",
       "                                    paragraph_one_ru        publish_date  \\\n",
       "0  Британский производитель графических процессор... 2023-11-24 15:00:09   \n",
       "1  «Уровень атак» в Азиатско-Тихоокеанском регион... 2023-11-24 17:00:46   \n",
       "2  Искусственный интеллект представляет не только... 2023-11-24 00:00:00   \n",
       "3  24 ноября IT House сообщил, что зарубежные СМИ...                 NaT   \n",
       "4  IT House News от 24 ноября, согласно сообщению...                 NaT   \n",
       "\n",
       "                                           top_image  msg_id  \\\n",
       "0  https://cdn.i-scmp.com/sites/default/files/sty...  1483.0   \n",
       "1  https://cdn.i-scmp.com/sites/default/files/sty...  1484.0   \n",
       "2  https://img2.chinadaily.com.cn/images/202311/2...  1485.0   \n",
       "3  https://img.ithome.com/newsuploadfiles/2023/11...     NaN   \n",
       "4  https://img.ithome.com/newsuploadfiles/2023/11...     NaN   \n",
       "\n",
       "                    tags      publish_date_tg  published_flag language  \\\n",
       "0   #Nvidia #чипы #спорт  2023-11-24 14:41:13               1       en   \n",
       "1              #криминал  2023-11-24 14:41:43               1       en   \n",
       "2     #риск #мероприятия  2023-11-24 14:42:14               1       en   \n",
       "3                    NaN                  NaN               0       cn   \n",
       "4                    NaN                  NaN               0       cn   \n",
       "\n",
       "                                    combined_text_ru  \n",
       "0  Британский разработчик чипов искусственного ин...  \n",
       "1  Азиатско-Тихоокеанский регион стал новым «эпиц...  \n",
       "2  Подчеркнуто этическое управление ИИ Искусствен...  \n",
       "3  Испанский дизайнер создает первую местную моде...  \n",
       "4  Исследование показывает, что ChatGPT может ген...  "
      ]
     },
     "execution_count": 3,
     "metadata": {},
     "output_type": "execute_result"
    }
   ],
   "source": [
    "data.head()"
   ]
  },
  {
   "cell_type": "code",
   "execution_count": 4,
   "id": "70ed1cb3-a55a-4508-a653-fe275855c04e",
   "metadata": {},
   "outputs": [
    {
     "data": {
      "text/plain": [
       "Index(['publication', 'url', 'title', 'title_ru', 'paragraph_one',\n",
       "       'paragraph_one_ru', 'publish_date', 'top_image', 'msg_id', 'tags',\n",
       "       'publish_date_tg', 'published_flag', 'language', 'combined_text_ru'],\n",
       "      dtype='object')"
      ]
     },
     "execution_count": 4,
     "metadata": {},
     "output_type": "execute_result"
    }
   ],
   "source": [
    "data.columns"
   ]
  },
  {
   "cell_type": "code",
   "execution_count": 5,
   "id": "ddf5ee12-c5d1-4455-aa6b-71aad97a6e98",
   "metadata": {},
   "outputs": [
    {
     "data": {
      "text/plain": [
       "publication            0\n",
       "url                    0\n",
       "title                  0\n",
       "title_ru               0\n",
       "paragraph_one         16\n",
       "paragraph_one_ru      18\n",
       "publish_date        2286\n",
       "top_image            816\n",
       "msg_id              1814\n",
       "tags                2089\n",
       "publish_date_tg     1814\n",
       "published_flag         0\n",
       "language               0\n",
       "combined_text_ru       0\n",
       "dtype: int64"
      ]
     },
     "execution_count": 5,
     "metadata": {},
     "output_type": "execute_result"
    }
   ],
   "source": [
    "data.isna().sum()"
   ]
  },
  {
   "cell_type": "markdown",
   "id": "db685d8b-fb23-4392-92a0-7d8994f5983d",
   "metadata": {},
   "source": [
    "We need **'published_flag'** and **'combined_text_ru'** only. And I'll drop other columns. "
   ]
  },
  {
   "cell_type": "code",
   "execution_count": 6,
   "id": "e5714180-b56c-4009-9349-da444c29cd99",
   "metadata": {},
   "outputs": [
    {
     "data": {
      "text/html": [
       "<div>\n",
       "<style scoped>\n",
       "    .dataframe tbody tr th:only-of-type {\n",
       "        vertical-align: middle;\n",
       "    }\n",
       "\n",
       "    .dataframe tbody tr th {\n",
       "        vertical-align: top;\n",
       "    }\n",
       "\n",
       "    .dataframe thead th {\n",
       "        text-align: right;\n",
       "    }\n",
       "</style>\n",
       "<table border=\"1\" class=\"dataframe\">\n",
       "  <thead>\n",
       "    <tr style=\"text-align: right;\">\n",
       "      <th></th>\n",
       "      <th>published_flag</th>\n",
       "      <th>combined_text_ru</th>\n",
       "    </tr>\n",
       "  </thead>\n",
       "  <tbody>\n",
       "    <tr>\n",
       "      <th>0</th>\n",
       "      <td>1</td>\n",
       "      <td>Британский разработчик чипов искусственного ин...</td>\n",
       "    </tr>\n",
       "    <tr>\n",
       "      <th>1</th>\n",
       "      <td>1</td>\n",
       "      <td>Азиатско-Тихоокеанский регион стал новым «эпиц...</td>\n",
       "    </tr>\n",
       "    <tr>\n",
       "      <th>2</th>\n",
       "      <td>1</td>\n",
       "      <td>Подчеркнуто этическое управление ИИ Искусствен...</td>\n",
       "    </tr>\n",
       "    <tr>\n",
       "      <th>3</th>\n",
       "      <td>0</td>\n",
       "      <td>Испанский дизайнер создает первую местную моде...</td>\n",
       "    </tr>\n",
       "    <tr>\n",
       "      <th>4</th>\n",
       "      <td>0</td>\n",
       "      <td>Исследование показывает, что ChatGPT может ген...</td>\n",
       "    </tr>\n",
       "    <tr>\n",
       "      <th>...</th>\n",
       "      <td>...</td>\n",
       "      <td>...</td>\n",
       "    </tr>\n",
       "    <tr>\n",
       "      <th>3129</th>\n",
       "      <td>0</td>\n",
       "      <td>Grammarly использует возможности генеративного...</td>\n",
       "    </tr>\n",
       "    <tr>\n",
       "      <th>3130</th>\n",
       "      <td>0</td>\n",
       "      <td>Существует ограничение в 5 разговоров за раунд...</td>\n",
       "    </tr>\n",
       "    <tr>\n",
       "      <th>3131</th>\n",
       "      <td>0</td>\n",
       "      <td>Возможен экспорт в формат PDF/Word, онлайн-чат...</td>\n",
       "    </tr>\n",
       "    <tr>\n",
       "      <th>3132</th>\n",
       "      <td>0</td>\n",
       "      <td>81% сотрудников считают, что искусственный инт...</td>\n",
       "    </tr>\n",
       "    <tr>\n",
       "      <th>3133</th>\n",
       "      <td>0</td>\n",
       "      <td>Должен сдавать каждый экзамен? Новая версия Ch...</td>\n",
       "    </tr>\n",
       "  </tbody>\n",
       "</table>\n",
       "<p>3084 rows × 2 columns</p>\n",
       "</div>"
      ],
      "text/plain": [
       "      published_flag                                   combined_text_ru\n",
       "0                  1  Британский разработчик чипов искусственного ин...\n",
       "1                  1  Азиатско-Тихоокеанский регион стал новым «эпиц...\n",
       "2                  1  Подчеркнуто этическое управление ИИ Искусствен...\n",
       "3                  0  Испанский дизайнер создает первую местную моде...\n",
       "4                  0  Исследование показывает, что ChatGPT может ген...\n",
       "...              ...                                                ...\n",
       "3129               0  Grammarly использует возможности генеративного...\n",
       "3130               0  Существует ограничение в 5 разговоров за раунд...\n",
       "3131               0  Возможен экспорт в формат PDF/Word, онлайн-чат...\n",
       "3132               0  81% сотрудников считают, что искусственный инт...\n",
       "3133               0  Должен сдавать каждый экзамен? Новая версия Ch...\n",
       "\n",
       "[3084 rows x 2 columns]"
      ]
     },
     "execution_count": 6,
     "metadata": {},
     "output_type": "execute_result"
    }
   ],
   "source": [
    "dataset=data.drop(columns = ['publication', 'url', 'title', 'title_ru', 'paragraph_one',\n",
    "       'paragraph_one_ru', 'publish_date', 'top_image', 'msg_id', 'tags',\n",
    "       'publish_date_tg','language'],axis = 1)\n",
    "dataset"
   ]
  },
  {
   "cell_type": "markdown",
   "id": "e2a33ce3-6319-4c15-a0d2-a61fc835ccac",
   "metadata": {},
   "source": [
    "## Text Preprocessing"
   ]
  },
  {
   "cell_type": "markdown",
   "id": "b25c13f4-bab7-443b-b255-4deaa0434316",
   "metadata": {
    "jp-MarkdownHeadingCollapsed": true
   },
   "source": [
    "### Pymorphy2 - <span style=\"color:red\">doesn't support Python 3.11 </span>."
   ]
  },
  {
   "cell_type": "code",
   "execution_count": 39,
   "id": "0a2a0761-8b4b-45a1-b07d-bcbf8ccc4e8a",
   "metadata": {},
   "outputs": [
    {
     "name": "stdout",
     "output_type": "stream",
     "text": [
      "Defaulting to user installation because normal site-packages is not writeable\n",
      "Requirement already satisfied: pymorphy2 in c:\\users\\msi\\appdata\\roaming\\python\\python311\\site-packages (0.9.1)\n",
      "Requirement already satisfied: dawg-python>=0.7.1 in c:\\users\\msi\\appdata\\roaming\\python\\python311\\site-packages (from pymorphy2) (0.7.2)\n",
      "Requirement already satisfied: pymorphy2-dicts-ru<3.0,>=2.4 in c:\\users\\msi\\appdata\\roaming\\python\\python311\\site-packages (from pymorphy2) (2.4.417127.4579844)\n",
      "Requirement already satisfied: docopt>=0.6 in c:\\users\\msi\\appdata\\roaming\\python\\python311\\site-packages (from pymorphy2) (0.6.2)\n"
     ]
    }
   ],
   "source": [
    "!pip install pymorphy2"
   ]
  },
  {
   "cell_type": "code",
   "execution_count": 36,
   "id": "7a040701-ec40-43cd-adc9-38ca841325f6",
   "metadata": {},
   "outputs": [],
   "source": [
    "from pymorphy2 import MorphAnalyzer"
   ]
  },
  {
   "cell_type": "code",
   "execution_count": 37,
   "id": "1228e982-e3d8-46fd-b6a2-2191bbe19ecb",
   "metadata": {},
   "outputs": [
    {
     "ename": "AttributeError",
     "evalue": "module 'inspect' has no attribute 'getargspec'",
     "output_type": "error",
     "traceback": [
      "\u001b[1;31m---------------------------------------------------------------------------\u001b[0m",
      "\u001b[1;31mAttributeError\u001b[0m                            Traceback (most recent call last)",
      "Cell \u001b[1;32mIn[37], line 1\u001b[0m\n\u001b[1;32m----> 1\u001b[0m morph \u001b[38;5;241m=\u001b[39m MorphAnalyzer()\n\u001b[0;32m      2\u001b[0m word \u001b[38;5;241m=\u001b[39m \u001b[38;5;124m'\u001b[39m\u001b[38;5;124mбегали\u001b[39m\u001b[38;5;124m'\u001b[39m\n\u001b[0;32m      3\u001b[0m parsed \u001b[38;5;241m=\u001b[39m morph\u001b[38;5;241m.\u001b[39mparse(word)[\u001b[38;5;241m0\u001b[39m]\n",
      "File \u001b[1;32m~\\AppData\\Roaming\\Python\\Python311\\site-packages\\pymorphy2\\analyzer.py:224\u001b[0m, in \u001b[0;36mMorphAnalyzer.__init__\u001b[1;34m(self, path, lang, result_type, units, probability_estimator_cls, char_substitutes)\u001b[0m\n\u001b[0;32m    222\u001b[0m \u001b[38;5;28mself\u001b[39m\u001b[38;5;241m.\u001b[39m_result_type_orig \u001b[38;5;241m=\u001b[39m result_type\n\u001b[0;32m    223\u001b[0m \u001b[38;5;28mself\u001b[39m\u001b[38;5;241m.\u001b[39m_init_char_substitutes(char_substitutes)\n\u001b[1;32m--> 224\u001b[0m \u001b[38;5;28mself\u001b[39m\u001b[38;5;241m.\u001b[39m_init_units(units)\n",
      "File \u001b[1;32m~\\AppData\\Roaming\\Python\\Python311\\site-packages\\pymorphy2\\analyzer.py:235\u001b[0m, in \u001b[0;36mMorphAnalyzer._init_units\u001b[1;34m(self, units_unbound)\u001b[0m\n\u001b[0;32m    233\u001b[0m \u001b[38;5;28;01mif\u001b[39;00m \u001b[38;5;28misinstance\u001b[39m(item, (\u001b[38;5;28mlist\u001b[39m, \u001b[38;5;28mtuple\u001b[39m)):\n\u001b[0;32m    234\u001b[0m     \u001b[38;5;28;01mfor\u001b[39;00m unit \u001b[38;5;129;01min\u001b[39;00m item[:\u001b[38;5;241m-\u001b[39m\u001b[38;5;241m1\u001b[39m]:\n\u001b[1;32m--> 235\u001b[0m         \u001b[38;5;28mself\u001b[39m\u001b[38;5;241m.\u001b[39m_units\u001b[38;5;241m.\u001b[39mappend((\u001b[38;5;28mself\u001b[39m\u001b[38;5;241m.\u001b[39m_bound_unit(unit), \u001b[38;5;28;01mFalse\u001b[39;00m))\n\u001b[0;32m    236\u001b[0m     \u001b[38;5;28mself\u001b[39m\u001b[38;5;241m.\u001b[39m_units\u001b[38;5;241m.\u001b[39mappend((\u001b[38;5;28mself\u001b[39m\u001b[38;5;241m.\u001b[39m_bound_unit(item[\u001b[38;5;241m-\u001b[39m\u001b[38;5;241m1\u001b[39m]), \u001b[38;5;28;01mTrue\u001b[39;00m))\n\u001b[0;32m    237\u001b[0m \u001b[38;5;28;01melse\u001b[39;00m:\n",
      "File \u001b[1;32m~\\AppData\\Roaming\\Python\\Python311\\site-packages\\pymorphy2\\analyzer.py:246\u001b[0m, in \u001b[0;36mMorphAnalyzer._bound_unit\u001b[1;34m(self, unit)\u001b[0m\n\u001b[0;32m    245\u001b[0m \u001b[38;5;28;01mdef\u001b[39;00m \u001b[38;5;21m_bound_unit\u001b[39m(\u001b[38;5;28mself\u001b[39m, unit):\n\u001b[1;32m--> 246\u001b[0m     unit \u001b[38;5;241m=\u001b[39m unit\u001b[38;5;241m.\u001b[39mclone()\n\u001b[0;32m    247\u001b[0m     unit\u001b[38;5;241m.\u001b[39minit(\u001b[38;5;28mself\u001b[39m)\n\u001b[0;32m    248\u001b[0m     \u001b[38;5;28;01mreturn\u001b[39;00m unit\n",
      "File \u001b[1;32m~\\AppData\\Roaming\\Python\\Python311\\site-packages\\pymorphy2\\units\\base.py:35\u001b[0m, in \u001b[0;36mBaseAnalyzerUnit.clone\u001b[1;34m(self)\u001b[0m\n\u001b[0;32m     34\u001b[0m \u001b[38;5;28;01mdef\u001b[39;00m \u001b[38;5;21mclone\u001b[39m(\u001b[38;5;28mself\u001b[39m):\n\u001b[1;32m---> 35\u001b[0m     \u001b[38;5;28;01mreturn\u001b[39;00m \u001b[38;5;28mself\u001b[39m\u001b[38;5;241m.\u001b[39m\u001b[38;5;18m__class__\u001b[39m(\u001b[38;5;241m*\u001b[39m\u001b[38;5;241m*\u001b[39m\u001b[38;5;28mself\u001b[39m\u001b[38;5;241m.\u001b[39m_get_params())\n",
      "File \u001b[1;32m~\\AppData\\Roaming\\Python\\Python311\\site-packages\\pymorphy2\\units\\base.py:76\u001b[0m, in \u001b[0;36mBaseAnalyzerUnit._get_params\u001b[1;34m(self)\u001b[0m\n\u001b[0;32m     73\u001b[0m \u001b[38;5;28;01mdef\u001b[39;00m \u001b[38;5;21m_get_params\u001b[39m(\u001b[38;5;28mself\u001b[39m):\n\u001b[0;32m     74\u001b[0m \u001b[38;5;250m    \u001b[39m\u001b[38;5;124;03m\"\"\" Return a dict with the parameters for this analyzer unit. \"\"\"\u001b[39;00m\n\u001b[0;32m     75\u001b[0m     \u001b[38;5;28;01mreturn\u001b[39;00m \u001b[38;5;28mdict\u001b[39m(\n\u001b[1;32m---> 76\u001b[0m         (key, \u001b[38;5;28mgetattr\u001b[39m(\u001b[38;5;28mself\u001b[39m, key, \u001b[38;5;28;01mNone\u001b[39;00m)) \u001b[38;5;28;01mfor\u001b[39;00m key \u001b[38;5;129;01min\u001b[39;00m \u001b[38;5;28mself\u001b[39m\u001b[38;5;241m.\u001b[39m_get_param_names()\n\u001b[0;32m     77\u001b[0m     )\n",
      "File \u001b[1;32m~\\AppData\\Roaming\\Python\\Python311\\site-packages\\pymorphy2\\units\\base.py:70\u001b[0m, in \u001b[0;36mBaseAnalyzerUnit._get_param_names\u001b[1;34m(cls)\u001b[0m\n\u001b[0;32m     68\u001b[0m \u001b[38;5;28;01mif\u001b[39;00m \u001b[38;5;28mcls\u001b[39m\u001b[38;5;241m.\u001b[39m\u001b[38;5;21m__init__\u001b[39m \u001b[38;5;129;01mis\u001b[39;00m \u001b[38;5;28mobject\u001b[39m\u001b[38;5;241m.\u001b[39m\u001b[38;5;21m__init__\u001b[39m:\n\u001b[0;32m     69\u001b[0m     \u001b[38;5;28;01mreturn\u001b[39;00m []\n\u001b[1;32m---> 70\u001b[0m args, varargs, kw, default \u001b[38;5;241m=\u001b[39m inspect\u001b[38;5;241m.\u001b[39mgetargspec(\u001b[38;5;28mcls\u001b[39m\u001b[38;5;241m.\u001b[39m\u001b[38;5;21m__init__\u001b[39m)\n\u001b[0;32m     71\u001b[0m \u001b[38;5;28;01mreturn\u001b[39;00m \u001b[38;5;28msorted\u001b[39m(args[\u001b[38;5;241m1\u001b[39m:])\n",
      "\u001b[1;31mAttributeError\u001b[0m: module 'inspect' has no attribute 'getargspec'"
     ]
    }
   ],
   "source": [
    "morph = MorphAnalyzer()\n",
    "word = 'бегали'\n",
    "parsed = morph.parse(word)[0]\n",
    "print(parsed.normal_form)  # 'бегать'"
   ]
  },
  {
   "cell_type": "markdown",
   "id": "828938fc-56f4-4f13-b787-146df4fabfa2",
   "metadata": {
    "jp-MarkdownHeadingCollapsed": true
   },
   "source": [
    "### pymystem3 - <span style=\"color:red\">verey very slow with Windows 11</span>."
   ]
  },
  {
   "cell_type": "code",
   "execution_count": 41,
   "id": "5c322b13-b5a5-4e2c-a461-e90228741d86",
   "metadata": {},
   "outputs": [
    {
     "name": "stdout",
     "output_type": "stream",
     "text": [
      "Defaulting to user installation because normal site-packages is not writeable\n",
      "Requirement already satisfied: pymystem3 in c:\\users\\msi\\appdata\\roaming\\python\\python311\\site-packages (0.2.0)\n",
      "Requirement already satisfied: requests in c:\\programdata\\anaconda3\\lib\\site-packages (from pymystem3) (2.31.0)\n",
      "Requirement already satisfied: charset-normalizer<4,>=2 in c:\\programdata\\anaconda3\\lib\\site-packages (from requests->pymystem3) (2.0.4)\n",
      "Requirement already satisfied: idna<4,>=2.5 in c:\\programdata\\anaconda3\\lib\\site-packages (from requests->pymystem3) (3.4)\n",
      "Requirement already satisfied: urllib3<3,>=1.21.1 in c:\\programdata\\anaconda3\\lib\\site-packages (from requests->pymystem3) (1.26.18)\n",
      "Requirement already satisfied: certifi>=2017.4.17 in c:\\programdata\\anaconda3\\lib\\site-packages (from requests->pymystem3) (2023.11.17)\n"
     ]
    }
   ],
   "source": [
    "!Pip install pymystem3"
   ]
  },
  {
   "cell_type": "code",
   "execution_count": null,
   "id": "cdcb4b68-e25c-4e5b-a3ce-d1b44c0314a8",
   "metadata": {},
   "outputs": [
    {
     "name": "stderr",
     "output_type": "stream",
     "text": [
      "100%|██████████████████████████████████████████████████████████████████████████████████| 59/59 [00:38<00:00,  1.52it/s]\n",
      "100%|██████████████████████████████████████████████████████████████████████████████████| 53/53 [00:34<00:00,  1.53it/s]\n",
      "100%|██████████████████████████████████████████████████████████████████████████████████| 70/70 [00:46<00:00,  1.50it/s]\n",
      "100%|██████████████████████████████████████████████████████████████████████████████████| 86/86 [00:58<00:00,  1.46it/s]\n",
      "100%|██████████████████████████████████████████████████████████████████████████████████| 65/65 [00:42<00:00,  1.53it/s]\n",
      "100%|██████████████████████████████████████████████████████████████████████████████████| 53/53 [00:34<00:00,  1.54it/s]\n",
      "100%|██████████████████████████████████████████████████████████████████████████████████| 65/65 [00:42<00:00,  1.53it/s]\n",
      "100%|██████████████████████████████████████████████████████████████████████████████████| 57/57 [00:37<00:00,  1.52it/s]\n",
      "100%|██████████████████████████████████████████████████████████████████████████████████| 52/52 [00:34<00:00,  1.50it/s]\n",
      "100%|██████████████████████████████████████████████████████████████████████████████████| 63/63 [00:44<00:00,  1.43it/s]\n",
      "100%|██████████████████████████████████████████████████████████████████████████████████| 58/58 [00:39<00:00,  1.47it/s]\n",
      "100%|██████████████████████████████████████████████████████████████████████████████████| 41/41 [00:27<00:00,  1.50it/s]\n",
      "100%|██████████████████████████████████████████████████████████████████████████████████| 90/90 [01:03<00:00,  1.42it/s]\n",
      "100%|██████████████████████████████████████████████████████████████████████████████████| 62/62 [00:41<00:00,  1.51it/s]\n",
      "100%|██████████████████████████████████████████████████████████████████████████████████| 51/51 [00:33<00:00,  1.50it/s]\n",
      "100%|██████████████████████████████████████████████████████████████████████████████████| 89/89 [01:08<00:00,  1.30it/s]\n",
      "100%|██████████████████████████████████████████████████████████████████████████████████| 67/67 [00:45<00:00,  1.46it/s]\n",
      "100%|██████████████████████████████████████████████████████████████████████████████████| 63/63 [00:41<00:00,  1.52it/s]\n",
      "100%|██████████████████████████████████████████████████████████████████████████████████| 50/50 [00:33<00:00,  1.48it/s]\n",
      "100%|████████████████████████████████████████████████████████████████████████████████| 132/132 [01:29<00:00,  1.47it/s]\n",
      "100%|██████████████████████████████████████████████████████████████████████████████████| 57/57 [00:45<00:00,  1.25it/s]\n",
      "100%|██████████████████████████████████████████████████████████████████████████████████| 79/79 [00:58<00:00,  1.35it/s]\n",
      "100%|██████████████████████████████████████████████████████████████████████████████████| 79/79 [00:54<00:00,  1.44it/s]\n",
      "100%|██████████████████████████████████████████████████████████████████████████████████| 59/59 [00:39<00:00,  1.51it/s]\n",
      "100%|██████████████████████████████████████████████████████████████████████████████████| 61/61 [00:40<00:00,  1.51it/s]\n",
      "100%|██████████████████████████████████████████████████████████████████████████████████| 48/48 [00:32<00:00,  1.49it/s]\n",
      "100%|██████████████████████████████████████████████████████████████████████████████████| 67/67 [00:46<00:00,  1.45it/s]\n",
      "100%|██████████████████████████████████████████████████████████████████████████████████| 52/52 [00:34<00:00,  1.51it/s]\n",
      "100%|██████████████████████████████████████████████████████████████████████████████████| 56/56 [00:37<00:00,  1.51it/s]\n",
      "100%|██████████████████████████████████████████████████████████████████████████████████| 95/95 [01:03<00:00,  1.51it/s]\n",
      "100%|██████████████████████████████████████████████████████████████████████████████████| 56/56 [00:36<00:00,  1.52it/s]\n",
      "100%|██████████████████████████████████████████████████████████████████████████████████| 52/52 [00:34<00:00,  1.50it/s]\n",
      "100%|██████████████████████████████████████████████████████████████████████████████████| 92/92 [01:00<00:00,  1.51it/s]\n",
      "100%|██████████████████████████████████████████████████████████████████████████████████| 79/79 [00:52<00:00,  1.51it/s]\n",
      "100%|██████████████████████████████████████████████████████████████████████████████████| 61/61 [00:40<00:00,  1.52it/s]\n",
      "100%|██████████████████████████████████████████████████████████████████████████████████| 59/59 [00:38<00:00,  1.52it/s]\n",
      "100%|██████████████████████████████████████████████████████████████████████████████████| 56/56 [00:37<00:00,  1.50it/s]\n",
      "100%|██████████████████████████████████████████████████████████████████████████████████| 48/48 [00:31<00:00,  1.52it/s]\n",
      "100%|████████████████████████████████████████████████████████████████████████████████| 110/110 [01:12<00:00,  1.51it/s]\n",
      "100%|██████████████████████████████████████████████████████████████████████████████████| 67/67 [00:44<00:00,  1.51it/s]\n",
      "100%|██████████████████████████████████████████████████████████████████████████████████| 73/73 [00:47<00:00,  1.53it/s]\n",
      "100%|██████████████████████████████████████████████████████████████████████████████████| 93/93 [01:01<00:00,  1.51it/s]\n",
      "100%|██████████████████████████████████████████████████████████████████████████████████| 48/48 [00:31<00:00,  1.53it/s]\n",
      "100%|██████████████████████████████████████████████████████████████████████████████████| 51/51 [00:33<00:00,  1.52it/s]\n",
      "100%|██████████████████████████████████████████████████████████████████████████████████| 85/85 [00:55<00:00,  1.52it/s]\n",
      "100%|██████████████████████████████████████████████████████████████████████████████████| 48/48 [00:31<00:00,  1.53it/s]\n",
      "100%|██████████████████████████████████████████████████████████████████████████████████| 50/50 [00:32<00:00,  1.53it/s]\n",
      "100%|██████████████████████████████████████████████████████████████████████████████████| 56/56 [00:36<00:00,  1.51it/s]\n",
      "100%|██████████████████████████████████████████████████████████████████████████████████| 52/52 [00:34<00:00,  1.52it/s]\n",
      "100%|██████████████████████████████████████████████████████████████████████████████████| 60/60 [00:40<00:00,  1.49it/s]\n",
      "100%|██████████████████████████████████████████████████████████████████████████████████| 51/51 [00:33<00:00,  1.51it/s]\n",
      "100%|██████████████████████████████████████████████████████████████████████████████████| 48/48 [00:31<00:00,  1.52it/s]\n",
      "100%|██████████████████████████████████████████████████████████████████████████████████| 44/44 [00:28<00:00,  1.53it/s]\n",
      "100%|██████████████████████████████████████████████████████████████████████████████████| 57/57 [00:37<00:00,  1.53it/s]\n",
      "100%|██████████████████████████████████████████████████████████████████████████████████| 37/37 [00:24<00:00,  1.51it/s]\n",
      "100%|██████████████████████████████████████████████████████████████████████████████████| 71/71 [00:46<00:00,  1.51it/s]\n",
      "100%|██████████████████████████████████████████████████████████████████████████████████| 82/82 [00:54<00:00,  1.51it/s]\n",
      "100%|████████████████████████████████████████████████████████████████████████████████| 142/142 [01:33<00:00,  1.52it/s]\n",
      "100%|██████████████████████████████████████████████████████████████████████████████████| 40/40 [00:26<00:00,  1.52it/s]\n",
      "100%|████████████████████████████████████████████████████████████████████████████████| 128/128 [01:24<00:00,  1.51it/s]\n",
      "100%|████████████████████████████████████████████████████████████████████████████████| 105/105 [01:09<00:00,  1.52it/s]\n",
      "100%|██████████████████████████████████████████████████████████████████████████████████| 76/76 [00:49<00:00,  1.53it/s]\n",
      "100%|██████████████████████████████████████████████████████████████████████████████████| 53/53 [00:34<00:00,  1.52it/s]\n",
      "100%|██████████████████████████████████████████████████████████████████████████████████| 63/63 [00:41<00:00,  1.51it/s]\n",
      "100%|██████████████████████████████████████████████████████████████████████████████████| 39/39 [00:25<00:00,  1.53it/s]\n",
      "100%|██████████████████████████████████████████████████████████████████████████████████| 52/52 [00:34<00:00,  1.51it/s]\n",
      "100%|██████████████████████████████████████████████████████████████████████████████████| 66/66 [00:43<00:00,  1.52it/s]\n",
      "100%|██████████████████████████████████████████████████████████████████████████████████| 72/72 [00:47<00:00,  1.51it/s]\n",
      "100%|██████████████████████████████████████████████████████████████████████████████████| 83/83 [00:53<00:00,  1.56it/s]\n",
      "100%|██████████████████████████████████████████████████████████████████████████████████| 45/45 [00:29<00:00,  1.53it/s]\n",
      "100%|██████████████████████████████████████████████████████████████████████████████████| 42/42 [00:27<00:00,  1.54it/s]\n",
      "100%|██████████████████████████████████████████████████████████████████████████████████| 53/53 [00:34<00:00,  1.52it/s]\n",
      "100%|██████████████████████████████████████████████████████████████████████████████████| 57/57 [00:37<00:00,  1.53it/s]\n",
      "100%|██████████████████████████████████████████████████████████████████████████████████| 50/50 [00:32<00:00,  1.54it/s]\n",
      "100%|██████████████████████████████████████████████████████████████████████████████████| 79/79 [00:51<00:00,  1.55it/s]\n",
      "100%|██████████████████████████████████████████████████████████████████████████████████| 72/72 [00:46<00:00,  1.53it/s]\n",
      "100%|██████████████████████████████████████████████████████████████████████████████████| 60/60 [00:38<00:00,  1.54it/s]\n",
      "100%|██████████████████████████████████████████████████████████████████████████████████| 82/82 [00:53<00:00,  1.53it/s]\n",
      "100%|██████████████████████████████████████████████████████████████████████████████████| 55/55 [00:35<00:00,  1.53it/s]\n",
      "100%|██████████████████████████████████████████████████████████████████████████████████| 92/92 [00:59<00:00,  1.55it/s]\n",
      "100%|██████████████████████████████████████████████████████████████████████████████████| 56/56 [00:36<00:00,  1.55it/s]\n",
      "100%|████████████████████████████████████████████████████████████████████████████████| 103/103 [01:07<00:00,  1.53it/s]\n",
      "100%|██████████████████████████████████████████████████████████████████████████████████| 57/57 [00:37<00:00,  1.54it/s]\n",
      "100%|██████████████████████████████████████████████████████████████████████████████████| 38/38 [00:24<00:00,  1.53it/s]\n",
      "100%|██████████████████████████████████████████████████████████████████████████████████| 75/75 [00:48<00:00,  1.54it/s]\n",
      "100%|████████████████████████████████████████████████████████████████████████████████| 138/138 [01:29<00:00,  1.54it/s]\n",
      "100%|██████████████████████████████████████████████████████████████████████████████████| 65/65 [00:42<00:00,  1.54it/s]\n",
      "100%|██████████████████████████████████████████████████████████████████████████████████| 45/45 [00:29<00:00,  1.54it/s]\n",
      "100%|██████████████████████████████████████████████████████████████████████████████████| 66/66 [00:42<00:00,  1.54it/s]\n",
      "100%|██████████████████████████████████████████████████████████████████████████████████| 64/64 [00:41<00:00,  1.56it/s]\n",
      "100%|██████████████████████████████████████████████████████████████████████████████████| 55/55 [00:35<00:00,  1.55it/s]\n",
      "100%|██████████████████████████████████████████████████████████████████████████████████| 52/52 [00:33<00:00,  1.54it/s]\n",
      "100%|██████████████████████████████████████████████████████████████████████████████████| 63/63 [00:41<00:00,  1.54it/s]\n",
      "100%|██████████████████████████████████████████████████████████████████████████████████| 68/68 [00:44<00:00,  1.54it/s]\n",
      "100%|██████████████████████████████████████████████████████████████████████████████████| 49/49 [00:32<00:00,  1.53it/s]\n",
      "100%|██████████████████████████████████████████████████████████████████████████████████| 41/41 [00:26<00:00,  1.54it/s]\n",
      "100%|██████████████████████████████████████████████████████████████████████████████████| 88/88 [00:56<00:00,  1.55it/s]\n",
      "100%|██████████████████████████████████████████████████████████████████████████████████| 52/52 [00:33<00:00,  1.55it/s]\n",
      "100%|██████████████████████████████████████████████████████████████████████████████████| 61/61 [00:39<00:00,  1.54it/s]\n",
      "100%|██████████████████████████████████████████████████████████████████████████████████| 53/53 [00:34<00:00,  1.55it/s]\n",
      "100%|████████████████████████████████████████████████████████████████████████████████| 116/116 [01:14<00:00,  1.55it/s]\n",
      "100%|████████████████████████████████████████████████████████████████████████████████| 125/125 [01:20<00:00,  1.55it/s]\n",
      "100%|██████████████████████████████████████████████████████████████████████████████████| 54/54 [00:34<00:00,  1.55it/s]\n",
      "100%|████████████████████████████████████████████████████████████████████████████████| 105/105 [01:07<00:00,  1.55it/s]\n",
      "100%|██████████████████████████████████████████████████████████████████████████████████| 53/53 [00:34<00:00,  1.55it/s]\n",
      "100%|██████████████████████████████████████████████████████████████████████████████████| 48/48 [00:30<00:00,  1.56it/s]\n",
      "100%|██████████████████████████████████████████████████████████████████████████████████| 44/44 [00:28<00:00,  1.56it/s]\n",
      "100%|██████████████████████████████████████████████████████████████████████████████████| 73/73 [00:46<00:00,  1.56it/s]\n",
      "100%|██████████████████████████████████████████████████████████████████████████████████| 70/70 [00:45<00:00,  1.53it/s]\n",
      "100%|██████████████████████████████████████████████████████████████████████████████████| 54/54 [00:34<00:00,  1.56it/s]\n",
      "100%|██████████████████████████████████████████████████████████████████████████████████| 74/74 [00:47<00:00,  1.56it/s]\n",
      "100%|██████████████████████████████████████████████████████████████████████████████████| 68/68 [00:43<00:00,  1.56it/s]\n",
      "100%|██████████████████████████████████████████████████████████████████████████████████| 51/51 [00:32<00:00,  1.56it/s]\n",
      "100%|██████████████████████████████████████████████████████████████████████████████████| 56/56 [00:35<00:00,  1.56it/s]\n",
      "100%|██████████████████████████████████████████████████████████████████████████████████| 65/65 [00:41<00:00,  1.56it/s]\n",
      "100%|██████████████████████████████████████████████████████████████████████████████████| 45/45 [00:28<00:00,  1.56it/s]\n",
      "100%|██████████████████████████████████████████████████████████████████████████████████| 56/56 [00:35<00:00,  1.56it/s]\n",
      "100%|██████████████████████████████████████████████████████████████████████████████████| 36/36 [00:23<00:00,  1.55it/s]\n",
      "100%|██████████████████████████████████████████████████████████████████████████████████| 65/65 [00:41<00:00,  1.55it/s]\n",
      "100%|██████████████████████████████████████████████████████████████████████████████████| 77/77 [00:49<00:00,  1.56it/s]\n",
      "100%|██████████████████████████████████████████████████████████████████████████████████| 60/60 [00:38<00:00,  1.56it/s]\n",
      "100%|██████████████████████████████████████████████████████████████████████████████████| 47/47 [00:30<00:00,  1.55it/s]\n",
      "100%|██████████████████████████████████████████████████████████████████████████████████| 57/57 [00:36<00:00,  1.56it/s]\n",
      "100%|██████████████████████████████████████████████████████████████████████████████████| 53/53 [00:34<00:00,  1.56it/s]\n",
      "100%|██████████████████████████████████████████████████████████████████████████████████| 87/87 [00:55<00:00,  1.56it/s]\n",
      "100%|██████████████████████████████████████████████████████████████████████████████████| 60/60 [00:38<00:00,  1.56it/s]\n",
      "100%|██████████████████████████████████████████████████████████████████████████████████| 49/49 [00:31<00:00,  1.55it/s]\n",
      "100%|██████████████████████████████████████████████████████████████████████████████████| 50/50 [00:32<00:00,  1.56it/s]\n",
      "100%|██████████████████████████████████████████████████████████████████████████████████| 77/77 [00:49<00:00,  1.56it/s]\n",
      "100%|██████████████████████████████████████████████████████████████████████████████████| 21/21 [00:13<00:00,  1.54it/s]\n",
      "100%|████████████████████████████████████████████████████████████████████████████████| 111/111 [01:13<00:00,  1.52it/s]\n",
      "100%|██████████████████████████████████████████████████████████████████████████████████| 63/63 [00:41<00:00,  1.53it/s]\n",
      "100%|██████████████████████████████████████████████████████████████████████████████████| 53/53 [00:34<00:00,  1.53it/s]\n",
      "100%|██████████████████████████████████████████████████████████████████████████████████| 38/38 [00:24<00:00,  1.53it/s]\n",
      "100%|██████████████████████████████████████████████████████████████████████████████████| 89/89 [01:00<00:00,  1.47it/s]\n",
      "100%|██████████████████████████████████████████████████████████████████████████████████| 79/79 [00:53<00:00,  1.49it/s]\n",
      "100%|██████████████████████████████████████████████████████████████████████████████████| 42/42 [00:28<00:00,  1.49it/s]\n",
      "100%|██████████████████████████████████████████████████████████████████████████████████| 99/99 [01:06<00:00,  1.49it/s]\n",
      "100%|██████████████████████████████████████████████████████████████████████████████████| 91/91 [00:59<00:00,  1.52it/s]\n",
      "100%|██████████████████████████████████████████████████████████████████████████████████| 47/47 [00:33<00:00,  1.39it/s]\n",
      "100%|████████████████████████████████████████████████████████████████████████████████| 116/116 [01:17<00:00,  1.49it/s]\n",
      "100%|██████████████████████████████████████████████████████████████████████████████████| 44/44 [00:29<00:00,  1.50it/s]\n",
      "100%|██████████████████████████████████████████████████████████████████████████████████| 69/69 [00:46<00:00,  1.49it/s]\n",
      "100%|██████████████████████████████████████████████████████████████████████████████████| 31/31 [00:21<00:00,  1.46it/s]\n",
      "100%|██████████████████████████████████████████████████████████████████████████████████| 93/93 [01:02<00:00,  1.49it/s]\n",
      "100%|██████████████████████████████████████████████████████████████████████████████████| 82/82 [00:53<00:00,  1.52it/s]\n",
      "100%|██████████████████████████████████████████████████████████████████████████████████| 46/46 [00:30<00:00,  1.53it/s]\n",
      "100%|██████████████████████████████████████████████████████████████████████████████████| 78/78 [00:50<00:00,  1.53it/s]\n",
      "100%|██████████████████████████████████████████████████████████████████████████████████| 49/49 [00:32<00:00,  1.52it/s]\n",
      "100%|██████████████████████████████████████████████████████████████████████████████████| 40/40 [00:26<00:00,  1.53it/s]\n",
      "100%|██████████████████████████████████████████████████████████████████████████████████| 40/40 [00:26<00:00,  1.53it/s]\n",
      "100%|██████████████████████████████████████████████████████████████████████████████████| 92/92 [01:00<00:00,  1.53it/s]\n",
      "100%|██████████████████████████████████████████████████████████████████████████████████| 64/64 [00:42<00:00,  1.52it/s]\n",
      "100%|████████████████████████████████████████████████████████████████████████████████| 107/107 [01:09<00:00,  1.53it/s]\n",
      "100%|██████████████████████████████████████████████████████████████████████████████████| 50/50 [00:32<00:00,  1.53it/s]\n",
      "100%|██████████████████████████████████████████████████████████████████████████████████| 43/43 [00:28<00:00,  1.53it/s]\n",
      "100%|██████████████████████████████████████████████████████████████████████████████████| 60/60 [00:39<00:00,  1.53it/s]\n",
      "100%|████████████████████████████████████████████████████████████████████████████████| 121/121 [01:19<00:00,  1.53it/s]\n",
      "100%|██████████████████████████████████████████████████████████████████████████████████| 60/60 [00:39<00:00,  1.53it/s]\n",
      "100%|██████████████████████████████████████████████████████████████████████████████████| 68/68 [00:44<00:00,  1.53it/s]\n",
      "100%|██████████████████████████████████████████████████████████████████████████████████| 47/47 [00:30<00:00,  1.53it/s]\n",
      "100%|██████████████████████████████████████████████████████████████████████████████████| 39/39 [00:25<00:00,  1.52it/s]\n",
      "100%|██████████████████████████████████████████████████████████████████████████████████| 83/83 [00:54<00:00,  1.53it/s]\n",
      "100%|██████████████████████████████████████████████████████████████████████████████████| 82/82 [00:53<00:00,  1.53it/s]\n",
      "100%|██████████████████████████████████████████████████████████████████████████████████| 65/65 [00:42<00:00,  1.53it/s]\n",
      "100%|██████████████████████████████████████████████████████████████████████████████████| 63/63 [00:41<00:00,  1.53it/s]\n",
      "100%|██████████████████████████████████████████████████████████████████████████████████| 53/53 [00:34<00:00,  1.53it/s]\n",
      "100%|██████████████████████████████████████████████████████████████████████████████████| 51/51 [00:33<00:00,  1.53it/s]\n",
      "100%|██████████████████████████████████████████████████████████████████████████████████| 66/66 [00:43<00:00,  1.53it/s]\n",
      "100%|████████████████████████████████████████████████████████████████████████████████| 131/131 [01:25<00:00,  1.53it/s]\n",
      "100%|████████████████████████████████████████████████████████████████████████████████| 110/110 [01:11<00:00,  1.53it/s]\n",
      "100%|██████████████████████████████████████████████████████████████████████████████████| 42/42 [00:27<00:00,  1.53it/s]\n",
      "100%|██████████████████████████████████████████████████████████████████████████████████| 47/47 [00:30<00:00,  1.53it/s]\n",
      "100%|██████████████████████████████████████████████████████████████████████████████████| 53/53 [00:34<00:00,  1.53it/s]\n",
      "100%|██████████████████████████████████████████████████████████████████████████████████| 25/25 [00:16<00:00,  1.53it/s]\n",
      "100%|██████████████████████████████████████████████████████████████████████████████████| 55/55 [00:35<00:00,  1.53it/s]\n",
      "100%|██████████████████████████████████████████████████████████████████████████████████| 76/76 [00:49<00:00,  1.53it/s]\n",
      "100%|██████████████████████████████████████████████████████████████████████████████████| 48/48 [00:31<00:00,  1.53it/s]\n",
      "100%|██████████████████████████████████████████████████████████████████████████████████| 81/81 [00:53<00:00,  1.53it/s]\n",
      "100%|██████████████████████████████████████████████████████████████████████████████████| 73/73 [00:47<00:00,  1.53it/s]\n",
      "100%|██████████████████████████████████████████████████████████████████████████████████| 97/97 [01:03<00:00,  1.53it/s]\n",
      "100%|██████████████████████████████████████████████████████████████████████████████████| 75/75 [00:48<00:00,  1.53it/s]\n",
      " 90%|████████████████████████████████████████████████████████████████████████        | 119/132 [01:19<00:08,  1.49it/s]"
     ]
    }
   ],
   "source": [
    "%%time\n",
    "\n",
    "def text_pre_processing(text, flg_stemm=False, flg_lemm=True, lst_stopwords=None):\n",
    "    # case folding and remove punctutation\n",
    "    text = re.sub(r'[^\\w\\s]', '', str(text).lower().strip())\n",
    "            \n",
    "    # tokenizing\n",
    "    lst_text = text.split()\n",
    "    # remove Stopwords\n",
    "    if lst_stopwords is not None:\n",
    "        lst_text = [word for word in lst_text if word not in \n",
    "                    lst_stopwords]\n",
    "                \n",
    "    # Stemming (remove -ing, -ly, ...)\n",
    "    if flg_stemm == True:\n",
    "        ps = nltk.stem.porter.PorterStemmer()\n",
    "        lst_text = [ps.stem(word) for word in lst_text]\n",
    "                \n",
    "    # Lemmatisation (convert the word into root word)\n",
    "    if flg_lemm == True:\n",
    "        lem = Mystem()\n",
    "        lst_text = [lem.lemmatize(word)[0] for word in tqdm(lst_text)]\n",
    "            \n",
    "    #back to string from list\n",
    "    text = \" \".join(lst_text)\n",
    "    return text\n",
    "\n",
    "dataset['combined_text_ru_clean'] = dataset['combined_text_ru'].apply(lambda combined_text_ru: text_pre_processing(combined_text_ru))\n",
    "dataset.head()"
   ]
  },
  {
   "cell_type": "markdown",
   "id": "44a1b9c5-42ca-44e0-81a4-5bd3fc4c0a84",
   "metadata": {},
   "source": [
    "15:20 50 h estimated to process"
   ]
  },
  {
   "cell_type": "markdown",
   "id": "1eef0dc0-eabb-49b8-9f22-12440429ad97",
   "metadata": {},
   "source": [
    "### Pymorphy 3 - <span style=\"color:green\">it's OK</span>."
   ]
  },
  {
   "cell_type": "code",
   "execution_count": 7,
   "id": "bf7ce988-e41b-4837-a216-21d577a04cc1",
   "metadata": {},
   "outputs": [],
   "source": [
    "from pymorphy3 import MorphAnalyzer"
   ]
  },
  {
   "cell_type": "code",
   "execution_count": 102,
   "id": "f18aa697-be2f-4836-8b6f-d8415968bdaf",
   "metadata": {},
   "outputs": [],
   "source": [
    "tqdm.pandas(desc=\"Progress_apply\") ## add tqdm progress bar with progress_apply method"
   ]
  },
  {
   "cell_type": "code",
   "execution_count": null,
   "id": "4e82c9d2-20a3-458d-ada3-c04cb445425b",
   "metadata": {},
   "outputs": [
    {
     "name": "stderr",
     "output_type": "stream",
     "text": [
      "Progress_apply:   0%|                               | 0/3084 [00:00<?, ?it/s]\n",
      "Lemmatize: 100%|███████████████████████████| 59/59 [00:00<00:00, 6931.96it/s]\u001b[A\n",
      "Progress_apply:   0%|                       | 2/3084 [00:00<11:13,  4.57it/s]\n",
      "Lemmatize: 100%|███████████████████████████| 53/53 [00:00<00:00, 7034.08it/s]\u001b[A\n",
      "Progress_apply:   0%|                       | 3/3084 [00:00<10:49,  4.74it/s]\n",
      "Lemmatize: 100%|███████████████████████████| 70/70 [00:00<00:00, 6343.75it/s]\u001b[A\n",
      "Progress_apply:   0%|                       | 4/3084 [00:00<10:18,  4.98it/s]\n",
      "Lemmatize: 100%|███████████████████████████| 86/86 [00:00<00:00, 6083.31it/s]\u001b[A\n",
      "Progress_apply:   0%|                       | 5/3084 [00:01<11:11,  4.58it/s]\n",
      "Lemmatize: 100%|███████████████████████████| 65/65 [00:00<00:00, 8539.96it/s]\u001b[A\n",
      "Progress_apply:   0%|                       | 6/3084 [00:01<10:35,  4.84it/s]\n",
      "Lemmatize: 100%|███████████████████████████| 53/53 [00:00<00:00, 7565.28it/s]\u001b[A\n",
      "Progress_apply:   0%|                       | 7/3084 [00:01<10:07,  5.06it/s]\n",
      "Lemmatize: 100%|███████████████████████████| 65/65 [00:00<00:00, 5786.97it/s]\u001b[A\n",
      "Progress_apply:   0%|                       | 8/3084 [00:01<09:54,  5.18it/s]\n",
      "Lemmatize: 100%|███████████████████████████| 57/57 [00:00<00:00, 6003.15it/s]\u001b[A\n",
      "Progress_apply:   0%|                       | 9/3084 [00:01<09:39,  5.30it/s]\n",
      "Lemmatize: 100%|███████████████████████████| 52/52 [00:00<00:00, 7422.79it/s]\u001b[A\n",
      "Progress_apply:   0%|                      | 10/3084 [00:04<56:56,  1.11s/it]\n",
      "Lemmatize: 100%|███████████████████████████| 63/63 [00:00<00:00, 7865.02it/s]\u001b[A\n",
      "Progress_apply:   0%|                      | 11/3084 [00:05<42:14,  1.21it/s]\n",
      "Lemmatize: 100%|███████████████████████████| 58/58 [00:00<00:00, 6803.22it/s]\u001b[A\n",
      "Progress_apply:   0%|                      | 12/3084 [00:05<32:01,  1.60it/s]\n",
      "Lemmatize: 100%|███████████████████████████| 41/41 [00:00<00:00, 6295.45it/s]\u001b[A\n",
      "Progress_apply:   0%|                      | 13/3084 [00:05<24:54,  2.05it/s]\n",
      "Lemmatize: 100%|███████████████████████████| 90/90 [00:00<00:00, 6193.80it/s]\u001b[A\n",
      "Progress_apply:   0%|                      | 14/3084 [00:05<20:52,  2.45it/s]\n",
      "Lemmatize: 100%|██████████████████████████| 62/62 [00:00<00:00, 10103.62it/s]\u001b[A\n",
      "Progress_apply:   0%|                      | 15/3084 [00:05<17:27,  2.93it/s]\n",
      "Lemmatize: 100%|██████████████████████████| 51/51 [00:00<00:00, 12750.92it/s]\u001b[A\n",
      "Progress_apply:   1%|                      | 16/3084 [00:06<14:41,  3.48it/s]\n",
      "Lemmatize: 100%|███████████████████████████| 89/89 [00:00<00:00, 8458.17it/s]\u001b[A\n",
      "Progress_apply:   1%|                      | 17/3084 [00:06<12:50,  3.98it/s]\n",
      "Lemmatize: 100%|██████████████████████████| 67/67 [00:00<00:00, 10277.53it/s]\u001b[A\n",
      "Progress_apply:   1%|▏                     | 18/3084 [00:06<11:24,  4.48it/s]\n",
      "Lemmatize: 100%|██████████████████████████| 63/63 [00:00<00:00, 15753.96it/s]\u001b[A\n",
      "Progress_apply:   1%|▏                     | 19/3084 [00:06<10:21,  4.93it/s]\n",
      "Lemmatize: 100%|███████████████████████████| 50/50 [00:00<00:00, 8293.40it/s]\u001b[A\n",
      "Progress_apply:   1%|▏                     | 20/3084 [00:06<09:48,  5.20it/s]\n",
      "Lemmatize: 100%|█████████████████████████| 132/132 [00:00<00:00, 7068.96it/s]\u001b[A\n",
      "Progress_apply:   1%|▏                     | 21/3084 [00:06<09:26,  5.40it/s]\n",
      "Lemmatize: 100%|██████████████████████████| 57/57 [00:00<00:00, 11392.68it/s]\u001b[A\n",
      "Progress_apply:   1%|▏                     | 22/3084 [00:07<09:15,  5.51it/s]\n",
      "Lemmatize: 100%|███████████████████████████| 79/79 [00:00<00:00, 9712.74it/s]\u001b[A\n",
      "Progress_apply:   1%|▏                     | 23/3084 [00:07<09:41,  5.26it/s]\n",
      "Lemmatize: 100%|███████████████████████████| 79/79 [00:00<00:00, 6861.95it/s]\u001b[A\n",
      "Progress_apply:   1%|▏                     | 24/3084 [00:07<09:39,  5.28it/s]\n",
      "Lemmatize: 100%|███████████████████████████| 59/59 [00:00<00:00, 5600.38it/s]\u001b[A\n",
      "Progress_apply:   1%|▏                     | 25/3084 [00:07<09:51,  5.17it/s]\n",
      "Lemmatize: 100%|███████████████████████████| 61/61 [00:00<00:00, 6416.36it/s]\u001b[A\n",
      "Progress_apply:   1%|▏                     | 26/3084 [00:07<10:08,  5.03it/s]\n",
      "Lemmatize: 100%|███████████████████████████| 48/48 [00:00<00:00, 6383.82it/s]\u001b[A\n",
      "Progress_apply:   1%|▏                     | 27/3084 [00:08<09:44,  5.23it/s]\n",
      "Lemmatize: 100%|███████████████████████████| 67/67 [00:00<00:00, 8415.49it/s]\u001b[A\n",
      "Progress_apply:   1%|▏                     | 28/3084 [00:08<10:06,  5.04it/s]\n",
      "Lemmatize: 100%|███████████████████████████| 52/52 [00:00<00:00, 8070.15it/s]\u001b[A\n",
      "Progress_apply:   1%|▏                     | 29/3084 [00:08<09:25,  5.40it/s]\n",
      "Lemmatize: 100%|██████████████████████████| 56/56 [00:00<00:00, 10038.51it/s]\u001b[A\n",
      "Progress_apply:   1%|▏                     | 30/3084 [00:08<08:51,  5.75it/s]\n",
      "Lemmatize: 100%|███████████████████████████| 95/95 [00:00<00:00, 9012.05it/s]\u001b[A\n",
      "Progress_apply:   1%|▏                     | 31/3084 [00:09<14:32,  3.50it/s]\n",
      "Lemmatize: 100%|██████████████████████████| 56/56 [00:00<00:00, 11179.49it/s]\u001b[A\n",
      "Progress_apply:   1%|▏                     | 32/3084 [00:09<14:00,  3.63it/s]\n",
      "Lemmatize: 100%|██████████████████████████| 52/52 [00:00<00:00, 12975.42it/s]\u001b[A\n",
      "Progress_apply:   1%|▏                     | 33/3084 [00:09<12:05,  4.21it/s]\n",
      "Lemmatize: 100%|███████████████████████████| 92/92 [00:00<00:00, 7045.39it/s]\u001b[A\n",
      "Progress_apply:   1%|▏                     | 34/3084 [00:09<10:59,  4.63it/s]\n",
      "Lemmatize: 100%|███████████████████████████| 79/79 [00:00<00:00, 9255.33it/s]\u001b[A\n",
      "Progress_apply:   1%|▏                     | 35/3084 [00:09<10:08,  5.01it/s]\n",
      "Lemmatize: 100%|███████████████████████████| 61/61 [00:00<00:00, 8112.26it/s]\u001b[A\n",
      "Progress_apply:   1%|▎                     | 36/3084 [00:10<09:37,  5.28it/s]\n",
      "Lemmatize: 100%|███████████████████████████| 59/59 [00:00<00:00, 9704.85it/s]\u001b[A\n",
      "Progress_apply:   1%|▎                     | 37/3084 [00:10<08:59,  5.65it/s]\n",
      "Lemmatize: 100%|███████████████████████████| 56/56 [00:00<00:00, 7976.40it/s]\u001b[A\n",
      "Progress_apply:   1%|▎                     | 38/3084 [00:10<08:36,  5.90it/s]\n",
      "Lemmatize: 100%|██████████████████████████| 48/48 [00:00<00:00, 15618.82it/s]\u001b[A\n",
      "Progress_apply:   1%|▎                     | 39/3084 [00:10<08:17,  6.12it/s]\n",
      "Lemmatize: 100%|█████████████████████████| 110/110 [00:00<00:00, 8395.02it/s]\u001b[A\n",
      "Progress_apply:   1%|▎                     | 40/3084 [00:10<08:14,  6.15it/s]\n",
      "Lemmatize: 100%|███████████████████████████| 67/67 [00:00<00:00, 6330.67it/s]\u001b[A\n",
      "Progress_apply:   1%|▎                     | 41/3084 [00:10<08:19,  6.10it/s]\n",
      "Lemmatize: 100%|███████████████████████████| 73/73 [00:00<00:00, 9683.24it/s]\u001b[A\n",
      "Progress_apply:   1%|▎                     | 42/3084 [00:10<08:21,  6.07it/s]\n",
      "Lemmatize: 100%|███████████████████████████| 93/93 [00:00<00:00, 8559.99it/s]\u001b[A\n",
      "Progress_apply:   1%|▎                     | 43/3084 [00:11<08:41,  5.83it/s]\n",
      "Lemmatize: 100%|███████████████████████████| 48/48 [00:00<00:00, 7296.03it/s]\u001b[A\n",
      "Progress_apply:   1%|▎                     | 44/3084 [00:11<08:33,  5.92it/s]\n",
      "Lemmatize: 100%|███████████████████████████| 51/51 [00:00<00:00, 7285.25it/s]\u001b[A\n",
      "Progress_apply:   1%|▎                     | 45/3084 [00:11<08:29,  5.97it/s]\n",
      "Lemmatize: 100%|███████████████████████████| 85/85 [00:00<00:00, 8127.01it/s]\u001b[A\n",
      "Progress_apply:   1%|▎                     | 46/3084 [00:11<08:28,  5.97it/s]\n",
      "Lemmatize: 100%|███████████████████████████| 48/48 [00:00<00:00, 8720.72it/s]\u001b[A\n",
      "Progress_apply:   2%|▎                     | 47/3084 [00:11<08:17,  6.11it/s]\n",
      "Lemmatize: 100%|███████████████████████████| 50/50 [00:00<00:00, 7673.72it/s]\u001b[A\n",
      "Progress_apply:   2%|▎                     | 48/3084 [00:11<08:07,  6.23it/s]\n",
      "Lemmatize: 100%|███████████████████████████| 56/56 [00:00<00:00, 7983.72it/s]\u001b[A\n",
      "Progress_apply:   2%|▎                     | 49/3084 [00:12<08:11,  6.17it/s]\n",
      "Lemmatize: 100%|███████████████████████████| 52/52 [00:00<00:00, 6919.76it/s]\u001b[A\n",
      "Progress_apply:   2%|▎                     | 50/3084 [00:12<08:15,  6.13it/s]\n",
      "Lemmatize: 100%|███████████████████████████| 60/60 [00:00<00:00, 7993.21it/s]\u001b[A\n",
      "Progress_apply:   2%|▎                     | 51/3084 [00:12<14:26,  3.50it/s]\n",
      "Lemmatize: 100%|███████████████████████████| 51/51 [00:00<00:00, 7256.09it/s]\u001b[A\n",
      "Progress_apply:   2%|▎                     | 52/3084 [00:12<12:31,  4.04it/s]\n",
      "Lemmatize: 100%|███████████████████████████| 48/48 [00:00<00:00, 6431.54it/s]\u001b[A\n",
      "Progress_apply:   2%|▍                     | 53/3084 [00:13<11:05,  4.55it/s]\n",
      "Lemmatize: 100%|███████████████████████████| 44/44 [00:00<00:00, 9924.14it/s]\u001b[A\n",
      "Progress_apply:   2%|▍                     | 54/3084 [00:13<10:02,  5.03it/s]\n",
      "Lemmatize: 100%|███████████████████████████| 57/57 [00:00<00:00, 8131.81it/s]\u001b[A\n",
      "Progress_apply:   2%|▍                     | 55/3084 [00:13<09:16,  5.45it/s]\n",
      "Lemmatize: 100%|███████████████████████████| 37/37 [00:00<00:00, 7396.30it/s]\u001b[A\n",
      "Progress_apply:   2%|▍                     | 56/3084 [00:13<08:37,  5.85it/s]\n",
      "Lemmatize: 100%|███████████████████████████| 71/71 [00:00<00:00, 8319.94it/s]\u001b[A\n",
      "Progress_apply:   2%|▍                     | 57/3084 [00:13<08:15,  6.11it/s]\n",
      "Lemmatize: 100%|███████████████████████████| 82/82 [00:00<00:00, 9737.63it/s]\u001b[A\n",
      "Progress_apply:   2%|▍                     | 58/3084 [00:13<08:00,  6.30it/s]\n",
      "Lemmatize: 100%|█████████████████████████| 142/142 [00:00<00:00, 9764.11it/s]\u001b[A\n",
      "Progress_apply:   2%|▍                     | 59/3084 [00:14<07:56,  6.35it/s]\n",
      "Lemmatize: 100%|██████████████████████████| 40/40 [00:00<00:00, 13299.42it/s]\u001b[A\n",
      "Progress_apply:   2%|▍                     | 60/3084 [00:14<07:41,  6.55it/s]\n",
      "Lemmatize: 100%|█████████████████████████| 128/128 [00:00<00:00, 8373.43it/s]\u001b[A\n",
      "Progress_apply:   2%|▍                     | 61/3084 [00:14<07:42,  6.54it/s]\n",
      "Lemmatize: 100%|█████████████████████████| 105/105 [00:00<00:00, 7475.84it/s]\u001b[A\n",
      "Progress_apply:   2%|▍                     | 62/3084 [00:14<07:43,  6.52it/s]\n",
      "Lemmatize: 100%|███████████████████████████| 76/76 [00:00<00:00, 7232.54it/s]\u001b[A\n",
      "Progress_apply:   2%|▍                     | 63/3084 [00:14<07:40,  6.57it/s]\n",
      "Lemmatize: 100%|███████████████████████████| 53/53 [00:00<00:00, 8218.65it/s]\u001b[A\n",
      "Progress_apply:   2%|▍                     | 64/3084 [00:14<07:33,  6.65it/s]\n",
      "Lemmatize: 100%|██████████████████████████| 63/63 [00:00<00:00, 11440.99it/s]\u001b[A\n",
      "Progress_apply:   2%|▍                     | 65/3084 [00:14<07:33,  6.66it/s]\n",
      "Lemmatize: 100%|███████████████████████████| 39/39 [00:00<00:00, 7790.91it/s]\u001b[A\n",
      "Progress_apply:   2%|▍                     | 66/3084 [00:15<07:29,  6.72it/s]\n",
      "Lemmatize: 100%|███████████████████████████| 52/52 [00:00<00:00, 7954.19it/s]\u001b[A\n",
      "Progress_apply:   2%|▍                     | 67/3084 [00:15<07:27,  6.75it/s]\n",
      "Lemmatize: 100%|███████████████████████████| 66/66 [00:00<00:00, 9811.59it/s]\u001b[A\n",
      "Progress_apply:   2%|▍                     | 68/3084 [00:15<07:24,  6.78it/s]\n",
      "Lemmatize: 100%|███████████████████████████| 72/72 [00:00<00:00, 8924.58it/s]\u001b[A\n",
      "Progress_apply:   2%|▍                     | 69/3084 [00:15<07:42,  6.51it/s]\n",
      "Lemmatize: 100%|██████████████████████████| 83/83 [00:00<00:00, 10302.67it/s]\u001b[A\n",
      "Progress_apply:   2%|▍                     | 70/3084 [00:15<07:47,  6.45it/s]\n",
      "Lemmatize: 100%|██████████████████████████| 45/45 [00:00<00:00, 12612.34it/s]\u001b[A\n",
      "Progress_apply:   2%|▌                     | 71/3084 [00:15<07:38,  6.58it/s]\n",
      "Lemmatize: 100%|███████████████████████████| 42/42 [00:00<00:00, 8397.01it/s]\u001b[A\n",
      "Progress_apply:   2%|▌                     | 72/3084 [00:16<12:20,  4.07it/s]\n",
      "Lemmatize: 100%|██████████████████████████| 53/53 [00:00<00:00, 10588.65it/s]\u001b[A\n",
      "Progress_apply:   2%|▌                     | 73/3084 [00:16<10:52,  4.62it/s]\n",
      "Lemmatize: 100%|███████████████████████████| 57/57 [00:00<00:00, 8639.61it/s]\u001b[A\n",
      "Progress_apply:   2%|▌                     | 74/3084 [00:16<09:47,  5.12it/s]\n",
      "Lemmatize: 100%|███████████████████████████| 50/50 [00:00<00:00, 8283.57it/s]\u001b[A\n",
      "Progress_apply:   2%|▌                     | 75/3084 [00:16<09:02,  5.55it/s]\n",
      "Lemmatize: 100%|███████████████████████████| 79/79 [00:00<00:00, 7502.55it/s]\u001b[A\n",
      "Progress_apply:   2%|▌                     | 76/3084 [00:16<08:35,  5.83it/s]\n",
      "Lemmatize: 100%|███████████████████████████| 72/72 [00:00<00:00, 9589.72it/s]\u001b[A\n",
      "Progress_apply:   2%|▌                     | 77/3084 [00:17<08:22,  5.98it/s]\n",
      "Lemmatize: 100%|███████████████████████████| 60/60 [00:00<00:00, 7992.20it/s]\u001b[A\n",
      "Progress_apply:   3%|▌                     | 78/3084 [00:17<08:14,  6.08it/s]\n",
      "Lemmatize: 100%|███████████████████████████| 82/82 [00:00<00:00, 9637.21it/s]\u001b[A\n",
      "Progress_apply:   3%|▌                     | 79/3084 [00:17<08:06,  6.18it/s]\n",
      "Lemmatize: 100%|███████████████████████████| 55/55 [00:00<00:00, 9985.57it/s]\u001b[A\n",
      "Progress_apply:   3%|▌                     | 80/3084 [00:17<07:58,  6.27it/s]\n",
      "Lemmatize: 100%|███████████████████████████| 92/92 [00:00<00:00, 7897.26it/s]\u001b[A\n",
      "Progress_apply:   3%|▌                     | 81/3084 [00:17<07:55,  6.32it/s]\n",
      "Lemmatize: 100%|███████████████████████████| 56/56 [00:00<00:00, 9321.79it/s]\u001b[A\n",
      "Progress_apply:   3%|▌                     | 82/3084 [00:17<07:48,  6.40it/s]\n",
      "Lemmatize: 100%|█████████████████████████| 103/103 [00:00<00:00, 8852.37it/s]\u001b[A\n",
      "Progress_apply:   3%|▌                     | 83/3084 [00:17<07:53,  6.34it/s]\n",
      "Lemmatize: 100%|███████████████████████████| 57/57 [00:00<00:00, 9500.31it/s]\u001b[A\n",
      "Progress_apply:   3%|▌                     | 84/3084 [00:18<07:45,  6.45it/s]\n",
      "Lemmatize: 100%|███████████████████████████| 38/38 [00:00<00:00, 9497.86it/s]\u001b[A\n",
      "Progress_apply:   3%|▌                     | 85/3084 [00:18<07:36,  6.57it/s]\n",
      "Lemmatize: 100%|██████████████████████████| 75/75 [00:00<00:00, 11386.84it/s]\u001b[A\n",
      "Progress_apply:   3%|▌                     | 86/3084 [00:18<07:33,  6.61it/s]\n",
      "Lemmatize: 100%|████████████████████████| 138/138 [00:00<00:00, 12033.30it/s]\u001b[A\n",
      "Progress_apply:   3%|▌                     | 87/3084 [00:18<07:33,  6.61it/s]\n",
      "Lemmatize: 100%|██████████████████████████| 65/65 [00:00<00:00, 10118.38it/s]\u001b[A\n",
      "Progress_apply:   3%|▋                     | 88/3084 [00:18<07:36,  6.56it/s]\n",
      "Lemmatize: 100%|██████████████████████████| 45/45 [00:00<00:00, 12852.82it/s]\u001b[A\n",
      "Progress_apply:   3%|▋                     | 89/3084 [00:18<07:35,  6.57it/s]\n",
      "Lemmatize: 100%|███████████████████████████| 66/66 [00:00<00:00, 8744.48it/s]\u001b[A\n",
      "Progress_apply:   3%|▋                     | 90/3084 [00:19<07:43,  6.46it/s]\n",
      "Lemmatize: 100%|███████████████████████████| 64/64 [00:00<00:00, 6696.99it/s]\u001b[A\n",
      "Progress_apply:   3%|▋                     | 91/3084 [00:19<07:51,  6.35it/s]\n",
      "Lemmatize: 100%|███████████████████████████| 55/55 [00:00<00:00, 9933.97it/s]\u001b[A\n",
      "Progress_apply:   3%|▋                     | 92/3084 [00:19<12:35,  3.96it/s]\n",
      "Lemmatize: 100%|███████████████████████████| 52/52 [00:00<00:00, 7998.82it/s]\u001b[A\n",
      "Progress_apply:   3%|▋                     | 93/3084 [00:19<11:03,  4.50it/s]\n",
      "Lemmatize: 100%|███████████████████████████| 63/63 [00:00<00:00, 8196.57it/s]\u001b[A\n",
      "Progress_apply:   3%|▋                     | 94/3084 [00:19<10:02,  4.97it/s]\n",
      "Lemmatize: 100%|███████████████████████████| 68/68 [00:00<00:00, 8491.76it/s]\u001b[A\n",
      "Progress_apply:   3%|▋                     | 95/3084 [00:20<09:20,  5.33it/s]\n",
      "Lemmatize: 100%|███████████████████████████| 49/49 [00:00<00:00, 7516.12it/s]\u001b[A\n",
      "Progress_apply:   3%|▋                     | 96/3084 [00:20<08:51,  5.62it/s]\n",
      "Lemmatize: 100%|███████████████████████████| 41/41 [00:00<00:00, 6108.50it/s]\u001b[A\n",
      "Progress_apply:   3%|▋                     | 97/3084 [00:20<08:31,  5.84it/s]\n",
      "Lemmatize: 100%|███████████████████████████| 88/88 [00:00<00:00, 9258.72it/s]\u001b[A\n",
      "Progress_apply:   3%|▋                     | 98/3084 [00:20<08:11,  6.07it/s]\n",
      "Lemmatize: 100%|███████████████████████████| 52/52 [00:00<00:00, 9437.23it/s]\u001b[A\n",
      "Progress_apply:   3%|▋                     | 99/3084 [00:20<07:55,  6.27it/s]\n",
      "Lemmatize: 100%|██████████████████████████| 61/61 [00:00<00:00, 12182.29it/s]\u001b[A\n",
      "Progress_apply:   3%|▋                    | 100/3084 [00:20<07:46,  6.39it/s]\n",
      "Lemmatize: 100%|███████████████████████████| 53/53 [00:00<00:00, 7051.04it/s]\u001b[A\n",
      "Progress_apply:   3%|▋                    | 101/3084 [00:21<07:46,  6.39it/s]\n",
      "Lemmatize: 100%|█████████████████████████| 116/116 [00:00<00:00, 8345.44it/s]\u001b[A\n",
      "Progress_apply:   3%|▋                    | 102/3084 [00:21<07:57,  6.24it/s]\n",
      "Lemmatize: 100%|█████████████████████████| 125/125 [00:00<00:00, 9211.93it/s]\u001b[A\n",
      "Progress_apply:   3%|▋                    | 103/3084 [00:21<07:52,  6.31it/s]\n",
      "Lemmatize: 100%|██████████████████████████| 54/54 [00:00<00:00, 10785.87it/s]\u001b[A\n",
      "Progress_apply:   3%|▋                    | 104/3084 [00:21<07:45,  6.40it/s]\n",
      "Lemmatize: 100%|█████████████████████████| 105/105 [00:00<00:00, 8067.89it/s]\u001b[A\n",
      "Progress_apply:   3%|▋                    | 105/3084 [00:21<07:49,  6.35it/s]\n",
      "Lemmatize: 100%|███████████████████████████| 53/53 [00:00<00:00, 7564.51it/s]\u001b[A\n",
      "Progress_apply:   3%|▋                    | 106/3084 [00:21<07:40,  6.46it/s]\n",
      "Lemmatize: 100%|███████████████████████████| 48/48 [00:00<00:00, 5635.45it/s]\u001b[A\n",
      "Progress_apply:   3%|▋                    | 107/3084 [00:22<08:03,  6.16it/s]\n",
      "Lemmatize: 100%|███████████████████████████| 44/44 [00:00<00:00, 7322.23it/s]\u001b[A\n",
      "Progress_apply:   4%|▋                    | 108/3084 [00:22<09:04,  5.46it/s]\n",
      "Lemmatize: 100%|███████████████████████████| 73/73 [00:00<00:00, 5502.06it/s]\u001b[A\n",
      "Progress_apply:   4%|▋                    | 109/3084 [00:22<08:54,  5.57it/s]\n",
      "Lemmatize: 100%|███████████████████████████| 70/70 [00:00<00:00, 9974.56it/s]\u001b[A\n",
      "Progress_apply:   4%|▋                    | 110/3084 [00:22<09:11,  5.40it/s]\n",
      "Lemmatize: 100%|███████████████████████████| 54/54 [00:00<00:00, 7703.56it/s]\u001b[A\n",
      "Progress_apply:   4%|▊                    | 111/3084 [00:22<08:40,  5.71it/s]\n",
      "Lemmatize: 100%|███████████████████████████| 74/74 [00:00<00:00, 7784.57it/s]\u001b[A\n",
      "Progress_apply:   4%|▊                    | 112/3084 [00:22<08:19,  5.95it/s]\n",
      "Lemmatize: 100%|██████████████████████████| 68/68 [00:00<00:00, 10449.65it/s]\u001b[A\n",
      "Progress_apply:   4%|▊                    | 113/3084 [00:23<14:31,  3.41it/s]\n",
      "Lemmatize: 100%|██████████████████████████| 51/51 [00:00<00:00, 10052.14it/s]\u001b[A\n",
      "Progress_apply:   4%|▊                    | 114/3084 [00:23<12:29,  3.96it/s]\n",
      "Lemmatize: 100%|███████████████████████████| 56/56 [00:00<00:00, 7985.62it/s]\u001b[A\n",
      "Progress_apply:   4%|▊                    | 115/3084 [00:23<11:00,  4.49it/s]\n",
      "Lemmatize: 100%|██████████████████████████| 65/65 [00:00<00:00, 12992.89it/s]\u001b[A\n",
      "Progress_apply:   4%|▊                    | 116/3084 [00:23<09:55,  4.98it/s]\n",
      "Lemmatize: 100%|███████████████████████████| 45/45 [00:00<00:00, 8870.78it/s]\u001b[A\n",
      "Progress_apply:   4%|▊                    | 117/3084 [00:24<09:05,  5.44it/s]\n",
      "Lemmatize: 100%|███████████████████████████| 56/56 [00:00<00:00, 8001.40it/s]\u001b[A\n",
      "Progress_apply:   4%|▊                    | 118/3084 [00:24<08:33,  5.77it/s]\n",
      "Lemmatize: 100%|███████████████████████████| 36/36 [00:00<00:00, 7984.08it/s]\u001b[A\n",
      "Progress_apply:   4%|▊                    | 119/3084 [00:24<08:09,  6.06it/s]\n",
      "Lemmatize: 100%|██████████████████████████| 65/65 [00:00<00:00, 11509.68it/s]\u001b[A\n",
      "Progress_apply:   4%|▊                    | 120/3084 [00:24<07:53,  6.26it/s]\n",
      "Lemmatize: 100%|██████████████████████████| 77/77 [00:00<00:00, 10351.00it/s]\u001b[A\n",
      "Progress_apply:   4%|▊                    | 121/3084 [00:24<07:44,  6.38it/s]\n",
      "Lemmatize: 100%|███████████████████████████| 60/60 [00:00<00:00, 8561.84it/s]\u001b[A\n",
      "Progress_apply:   4%|▊                    | 122/3084 [00:24<07:35,  6.51it/s]\n",
      "Lemmatize: 100%|███████████████████████████| 47/47 [00:00<00:00, 6188.43it/s]\u001b[A\n",
      "Progress_apply:   4%|▊                    | 123/3084 [00:25<07:28,  6.60it/s]\n",
      "Lemmatize: 100%|███████████████████████████| 57/57 [00:00<00:00, 7125.73it/s]\u001b[A\n",
      "Progress_apply:   4%|▊                    | 124/3084 [00:25<07:30,  6.57it/s]\n",
      "Lemmatize: 100%|███████████████████████████| 53/53 [00:00<00:00, 8831.52it/s]\u001b[A\n",
      "Progress_apply:   4%|▊                    | 125/3084 [00:25<07:26,  6.62it/s]\n",
      "Lemmatize: 100%|███████████████████████████| 87/87 [00:00<00:00, 9574.03it/s]\u001b[A\n",
      "Progress_apply:   4%|▊                    | 126/3084 [00:25<07:27,  6.61it/s]\n",
      "Lemmatize: 100%|██████████████████████████| 60/60 [00:00<00:00, 10840.33it/s]\u001b[A\n",
      "Progress_apply:   4%|▊                    | 127/3084 [00:25<07:20,  6.71it/s]\n",
      "Lemmatize: 100%|███████████████████████████| 49/49 [00:00<00:00, 8165.96it/s]\u001b[A\n",
      "Progress_apply:   4%|▊                    | 128/3084 [00:25<07:24,  6.65it/s]\n",
      "Lemmatize: 100%|███████████████████████████| 50/50 [00:00<00:00, 9986.44it/s]\u001b[A\n",
      "Progress_apply:   4%|▉                    | 129/3084 [00:25<07:25,  6.63it/s]"
     ]
    }
   ],
   "source": [
    "%%time\n",
    "\n",
    "def text_pre_processing(text, flg_stemm=False, flg_lemm=True, lst_stopwords=None):\n",
    "    # case folding and remove punctutation\n",
    "    text = re.sub(r'[^\\w\\s]', '', str(text).lower().strip())\n",
    "            \n",
    "    # tokenizing\n",
    "    lst_text = text.split()\n",
    "    # remove Stopwords\n",
    "    if lst_stopwords is not None:\n",
    "        lst_text = [word for word in lst_text if word not in \n",
    "                    lst_stopwords]\n",
    "                \n",
    "    # Stemming (remove -ing, -ly, ...)\n",
    "    if flg_stemm == True:\n",
    "        ps = nltk.stem.porter.PorterStemmer()\n",
    "        lst_text = [ps.stem(word) for word in lst_text]\n",
    "                \n",
    "    # Lemmatisation (convert the word into root word)\n",
    "    if flg_lemm == True:\n",
    "        lem = MorphAnalyzer()\n",
    "        lst_text = [lem.parse(word)[0].normal_form for word in tqdm(lst_text, desc='Lemmatize')]\n",
    "            \n",
    "    #back to string from list\n",
    "    text = \" \".join(lst_text)\n",
    "    return text\n",
    "\n",
    "dataset['combined_text_ru_clean'] = dataset['combined_text_ru'].progress_apply(lambda combined_text_ru: text_pre_processing(combined_text_ru))\n",
    "dataset.head()"
   ]
  },
  {
   "cell_type": "markdown",
   "id": "b201636e-38d2-4aea-b713-88a572c45301",
   "metadata": {},
   "source": [
    "### Save and restore file with lematized text"
   ]
  },
  {
   "cell_type": "code",
   "execution_count": 10,
   "id": "b3827bcb-382c-409e-9bd0-b0a11e0ee75a",
   "metadata": {},
   "outputs": [],
   "source": [
    "dataset.to_excel('ai_articles_lem_231124.xlsx')"
   ]
  },
  {
   "cell_type": "code",
   "execution_count": 105,
   "id": "87f503ee-7a26-4204-9f6f-a7edb42d6895",
   "metadata": {},
   "outputs": [
    {
     "data": {
      "text/html": [
       "<div>\n",
       "<style scoped>\n",
       "    .dataframe tbody tr th:only-of-type {\n",
       "        vertical-align: middle;\n",
       "    }\n",
       "\n",
       "    .dataframe tbody tr th {\n",
       "        vertical-align: top;\n",
       "    }\n",
       "\n",
       "    .dataframe thead th {\n",
       "        text-align: right;\n",
       "    }\n",
       "</style>\n",
       "<table border=\"1\" class=\"dataframe\">\n",
       "  <thead>\n",
       "    <tr style=\"text-align: right;\">\n",
       "      <th></th>\n",
       "      <th>published_flag</th>\n",
       "      <th>combined_text_ru</th>\n",
       "      <th>combined_text_ru_clean</th>\n",
       "    </tr>\n",
       "  </thead>\n",
       "  <tbody>\n",
       "    <tr>\n",
       "      <th>0</th>\n",
       "      <td>1</td>\n",
       "      <td>Британский разработчик чипов искусственного ин...</td>\n",
       "      <td>британский разработчик чип искусственный интел...</td>\n",
       "    </tr>\n",
       "    <tr>\n",
       "      <th>1</th>\n",
       "      <td>1</td>\n",
       "      <td>Азиатско-Тихоокеанский регион стал новым «эпиц...</td>\n",
       "      <td>азиатскотихоокеанский регион стать новый эпице...</td>\n",
       "    </tr>\n",
       "  </tbody>\n",
       "</table>\n",
       "</div>"
      ],
      "text/plain": [
       "   published_flag                                   combined_text_ru  \\\n",
       "0               1  Британский разработчик чипов искусственного ин...   \n",
       "1               1  Азиатско-Тихоокеанский регион стал новым «эпиц...   \n",
       "\n",
       "                              combined_text_ru_clean  \n",
       "0  британский разработчик чип искусственный интел...  \n",
       "1  азиатскотихоокеанский регион стать новый эпице...  "
      ]
     },
     "execution_count": 105,
     "metadata": {},
     "output_type": "execute_result"
    }
   ],
   "source": [
    "dataset = pd.read_excel('ai_articles_lem_231124.xlsx', index_col=0)\n",
    "dataset.head(2)"
   ]
  },
  {
   "cell_type": "markdown",
   "id": "beda9d33-0e69-44d6-97b7-50f34b201c73",
   "metadata": {},
   "source": [
    "## Split dataset for train and test"
   ]
  },
  {
   "cell_type": "markdown",
   "id": "6c7ea24e-5a3e-44e5-a19a-11bd04434d91",
   "metadata": {},
   "source": [
    "Split the dataset into train and test with a comparison of 70:30, 70% of the dataset for the training process and 30% for the testing process, for variable X = combined_text_ru_clean and variable y (target) = published_flag"
   ]
  },
  {
   "cell_type": "code",
   "execution_count": 106,
   "id": "e462f8fa-d344-428f-adb0-f2b4aa79ad9f",
   "metadata": {},
   "outputs": [
    {
     "name": "stdout",
     "output_type": "stream",
     "text": [
      "len(y_train): 2158\n",
      "723     1\n",
      "2997    0\n",
      "1081    0\n",
      "1460    1\n",
      "2184    1\n",
      "Name: published_flag, dtype: int64\n",
      "len(y_test): 926\n",
      "1167    1\n",
      "1542    1\n",
      "1103    1\n",
      "1021    1\n",
      "788     0\n",
      "Name: published_flag, dtype: int64\n"
     ]
    }
   ],
   "source": [
    "# split dataset\n",
    "X_train, X_test, y_train, y_test = train_test_split(\n",
    "    dataset['combined_text_ru_clean'],\n",
    "    dataset['published_flag'],\n",
    "    test_size=0.3,\n",
    "    random_state=72\n",
    ")\n",
    "print('len(y_train):',len(y_train))\n",
    "print(y_train[:5])\n",
    "print('len(y_test):',len(y_test))\n",
    "print(y_test[:5])"
   ]
  },
  {
   "cell_type": "markdown",
   "id": "1a183cf4-4acf-4c0b-95b4-40739beee8eb",
   "metadata": {},
   "source": [
    "## TF-IDF vectorization"
   ]
  },
  {
   "cell_type": "code",
   "execution_count": 107,
   "id": "0d38e22e-4f00-4c05-bfdb-9a19d1a4f367",
   "metadata": {},
   "outputs": [],
   "source": [
    "# Tf-Idf \n",
    "tfidf_vectorizer = TfidfVectorizer(max_features=10000, ngram_range=(1,2))"
   ]
  },
  {
   "cell_type": "code",
   "execution_count": 108,
   "id": "50973de5-3566-4055-8e8f-816edc93c35b",
   "metadata": {},
   "outputs": [],
   "source": [
    "X_train_tfidf = tfidf_vectorizer.fit_transform(X_train)\n",
    "X_test_tfidf = tfidf_vectorizer.transform(X_test)\n",
    "dic_vocabulary = tfidf_vectorizer.vocabulary_"
   ]
  },
  {
   "cell_type": "code",
   "execution_count": 109,
   "id": "4573d278-e402-4ece-a319-88c00fe21e3c",
   "metadata": {},
   "outputs": [
    {
     "data": {
      "text/plain": [
       "3888"
      ]
     },
     "execution_count": 109,
     "metadata": {},
     "output_type": "execute_result"
    }
   ],
   "source": [
    "word = \"искусственный интеллект\"\n",
    "dic_vocabulary[word]"
   ]
  },
  {
   "cell_type": "code",
   "execution_count": 110,
   "id": "c688c19e-5b2d-4040-998f-c18ad5780bd3",
   "metadata": {},
   "outputs": [
    {
     "data": {
      "text/plain": [
       "9524"
      ]
     },
     "execution_count": 110,
     "metadata": {},
     "output_type": "execute_result"
    }
   ],
   "source": [
    "word = \"чип\"\n",
    "dic_vocabulary[word]"
   ]
  },
  {
   "cell_type": "code",
   "execution_count": 111,
   "id": "a9fdd855-c687-4e54-bfbe-587e8e9fba7f",
   "metadata": {},
   "outputs": [
    {
     "data": {
      "text/plain": [
       "'британский разработчик чип искусственный интеллект graphcore уходить из китай поскольку конкурент nvidia становиться последний жертва ограничение экспорт в сша британский производитель графический процессор graphcore заявить что в это месяц всё он топовый продукт подпадать под новый экспортный правило вашингтон компания рассматриваться как потенциальный конкурент nvidia который вложить ресурс в настройка чип для китай выходить за рамка развивающийся ограничение сша'"
      ]
     },
     "execution_count": 111,
     "metadata": {},
     "output_type": "execute_result"
    }
   ],
   "source": [
    "X_train.loc[0]"
   ]
  },
  {
   "cell_type": "markdown",
   "id": "5f9fdf02-6779-4fef-a7eb-5b694f63fdc1",
   "metadata": {},
   "source": [
    "## Получение списка ключевых слов и их значения TF-IDF для первого документа со значением published_flag == 1"
   ]
  },
  {
   "cell_type": "code",
   "execution_count": 71,
   "id": "3d40c2cd-ca70-4381-8d15-70d37cd042d4",
   "metadata": {},
   "outputs": [
    {
     "name": "stdout",
     "output_type": "stream",
     "text": [
      "Ключевые слова: [('zhiyuan', 0.39779279251874705), ('a1', 0.35469113290726895), ('робот', 0.3303140189874899), ('робот zhiyuan', 0.23646075527151264), ('чжихуэй', 0.23646075527151264), ('huawei', 0.1286553301322315), ('чжихуэй цзюня', 0.11823037763575632), ('экспедиция', 0.11823037763575632), ('запустить робот', 0.11374248861861812), ('кг', 0.11026141145363032)]\n"
     ]
    }
   ],
   "source": [
    "# Получение списка ключевых слов и их значения TF-IDF для первого документа# Индексы первого документа с published_flag == 1\n",
    "#index_published_flag_1 = y_train[y_train['published_flag'] == 1].index[0]\n",
    "index_published_flag_1 = y_train[y_train == 1].index[0]\n",
    "\n",
    "# TF-IDF вектор для первого документа с published_flag == 1\n",
    "tfidf_vector_published_flag_1 = X_train_tfidf[index_published_flag_1, :]\n",
    "\n",
    "# Преобразование в массив и сортировка признаков по весам\n",
    "features_and_weights = list(zip(vectorizer.get_feature_names_out(), tfidf_vector_published_flag_1.toarray()[0]))\n",
    "top_10_features_published_flag_1 = sorted(features_and_weights, key=lambda x: x[1], reverse=True)[:10]\n",
    "\n",
    "# Вывод топ-10 признаков TF-IDF для первого документа с published_flag == 1\n",
    "print('Ключевые слова:',top_10_features_published_flag_1)"
   ]
  },
  {
   "cell_type": "markdown",
   "id": "e586e873-3571-476a-9f21-6e935b1db900",
   "metadata": {},
   "source": [
    "## Топ-20 слов в TF-IDF для published "
   ]
  },
  {
   "cell_type": "code",
   "execution_count": 73,
   "id": "8284c670-ea11-4a56-85b0-9ddd22972681",
   "metadata": {},
   "outputs": [
    {
     "name": "stdout",
     "output_type": "stream",
     "text": [
      "                      Feature  MeanTFIDF\n",
      "9550                      что   0.029361\n",
      "5079                       на   0.029265\n",
      "3715                интеллект   0.029055\n",
      "3887            искусственный   0.028812\n",
      "3888  искусственный интеллект   0.028612\n",
      "2938                      для   0.025560\n",
      "4897                   модель   0.023605\n",
      "4015                       ия   0.020998\n",
      "6433                       по   0.020851\n",
      "1963                     быть   0.019591\n",
      "906                        it   0.018633\n",
      "6057                       от   0.017876\n",
      "4297                 компания   0.017759\n",
      "827                     house   0.017716\n",
      "908                  it house   0.017676\n",
      "5532                    новый   0.017283\n",
      "4464                  который   0.016900\n",
      "2662                      год   0.016849\n",
      "4161                    китай   0.015027\n",
      "554                   chatgpt   0.014946\n"
     ]
    }
   ],
   "source": [
    "# Индексы признаков, соответствующих published_flag == 1\n",
    "published_flag_1_indices = y_train[y_train == 1].index\n",
    "\n",
    "# Убедимся, что индексы находятся в допустимом диапазоне\n",
    "published_flag_1_indices = published_flag_1_indices[published_flag_1_indices < y_train.shape[0]]\n",
    "\n",
    "# Средний TF-IDF вес для каждого признака среди документов с published_flag == 1\n",
    "mean_tfidf_values = X_train_tfidf[published_flag_1_indices, :].mean(axis=0).A1.ravel()\n",
    "\n",
    "# Создание DataFrame для удобства работы с данными\n",
    "feature_names = vectorizer.get_feature_names_out()\n",
    "tfidf_df = pd.DataFrame({'Feature': feature_names, 'MeanTFIDF': mean_tfidf_values})\n",
    "\n",
    "# Сортировка по среднему TF-IDF весу\n",
    "top_10_tfidf_features_published_flag_1 = tfidf_df.sort_values(by='MeanTFIDF', ascending=False).head(20)\n",
    "\n",
    "# Вывод топ-10 признаков TF-IDF для published_flag == 1\n",
    "print(top_10_tfidf_features_published_flag_1)"
   ]
  },
  {
   "cell_type": "markdown",
   "id": "b5d19ffe-e7ee-43a3-b2ca-995a15d9ff80",
   "metadata": {},
   "source": [
    "## Топ-20 слов в TF-IDF для unpublished "
   ]
  },
  {
   "cell_type": "code",
   "execution_count": 74,
   "id": "0335cb93",
   "metadata": {},
   "outputs": [
    {
     "name": "stdout",
     "output_type": "stream",
     "text": [
      "                      Feature  MeanTFIDF\n",
      "5079                       на   0.030321\n",
      "9550                      что   0.026224\n",
      "3715                интеллект   0.025684\n",
      "3887            искусственный   0.025618\n",
      "3888  искусственный интеллект   0.025415\n",
      "2938                      для   0.024988\n",
      "4015                       ия   0.021359\n",
      "4897                   модель   0.020727\n",
      "4161                    китай   0.020021\n",
      "6433                       по   0.019726\n",
      "1963                     быть   0.018979\n",
      "4297                 компания   0.018138\n",
      "5532                    новый   0.017669\n",
      "6057                       от   0.016512\n",
      "906                        it   0.016337\n",
      "4990                     мочь   0.016220\n",
      "4464                  который   0.015908\n",
      "4077                      как   0.015738\n",
      "827                     house   0.015659\n",
      "908                  it house   0.015566\n"
     ]
    }
   ],
   "source": [
    "# Индексы признаков, соответствующих published_flag == 0\n",
    "published_flag_0_indices = y_train[y_train == 0].index\n",
    "\n",
    "# Убедимся, что индексы находятся в допустимом диапазоне\n",
    "published_flag_0_indices = published_flag_0_indices[published_flag_0_indices < y_train.shape[0]]\n",
    "\n",
    "# Средний TF-IDF вес для каждого признака среди документов с published_flag == 0\n",
    "mean_tfidf_values = X_train_tfidf[published_flag_0_indices, :].mean(axis=0).A1.ravel()\n",
    "\n",
    "# Создание DataFrame для удобства работы с данными\n",
    "feature_names = vectorizer.get_feature_names_out()\n",
    "tfidf_df = pd.DataFrame({'Feature': feature_names, 'MeanTFIDF': mean_tfidf_values})\n",
    "\n",
    "# Сортировка по среднему TF-IDF весу\n",
    "top_10_tfidf_features_published_flag_0 = tfidf_df.sort_values(by='MeanTFIDF', ascending=False).head(20)\n",
    "\n",
    "# Вывод топ-10 признаков TF-IDF для published_flag == 1\n",
    "print(top_10_tfidf_features_published_flag_0)"
   ]
  },
  {
   "cell_type": "code",
   "execution_count": 75,
   "id": "24005afd-cb7d-460f-bccd-bbe65b8c0a15",
   "metadata": {},
   "outputs": [
    {
     "name": "stdout",
     "output_type": "stream",
     "text": [
      "10000 [0.00353778 0.00037148 0.0007567  ... 0.00032043 0.00079161 0.00054857]\n"
     ]
    }
   ],
   "source": [
    "print(len(mean_tfidf_values),mean_tfidf_values)"
   ]
  },
  {
   "cell_type": "markdown",
   "id": "bbbb544e-2924-4912-afd4-4338e4248063",
   "metadata": {},
   "source": [
    "## Logistic Regression train and score"
   ]
  },
  {
   "cell_type": "code",
   "execution_count": 77,
   "id": "f8358d29-ddfd-4b4f-8e0f-a0ed2d9d20f3",
   "metadata": {},
   "outputs": [
    {
     "data": {
      "text/html": [
       "<style>#sk-container-id-1 {color: black;}#sk-container-id-1 pre{padding: 0;}#sk-container-id-1 div.sk-toggleable {background-color: white;}#sk-container-id-1 label.sk-toggleable__label {cursor: pointer;display: block;width: 100%;margin-bottom: 0;padding: 0.3em;box-sizing: border-box;text-align: center;}#sk-container-id-1 label.sk-toggleable__label-arrow:before {content: \"▸\";float: left;margin-right: 0.25em;color: #696969;}#sk-container-id-1 label.sk-toggleable__label-arrow:hover:before {color: black;}#sk-container-id-1 div.sk-estimator:hover label.sk-toggleable__label-arrow:before {color: black;}#sk-container-id-1 div.sk-toggleable__content {max-height: 0;max-width: 0;overflow: hidden;text-align: left;background-color: #f0f8ff;}#sk-container-id-1 div.sk-toggleable__content pre {margin: 0.2em;color: black;border-radius: 0.25em;background-color: #f0f8ff;}#sk-container-id-1 input.sk-toggleable__control:checked~div.sk-toggleable__content {max-height: 200px;max-width: 100%;overflow: auto;}#sk-container-id-1 input.sk-toggleable__control:checked~label.sk-toggleable__label-arrow:before {content: \"▾\";}#sk-container-id-1 div.sk-estimator input.sk-toggleable__control:checked~label.sk-toggleable__label {background-color: #d4ebff;}#sk-container-id-1 div.sk-label input.sk-toggleable__control:checked~label.sk-toggleable__label {background-color: #d4ebff;}#sk-container-id-1 input.sk-hidden--visually {border: 0;clip: rect(1px 1px 1px 1px);clip: rect(1px, 1px, 1px, 1px);height: 1px;margin: -1px;overflow: hidden;padding: 0;position: absolute;width: 1px;}#sk-container-id-1 div.sk-estimator {font-family: monospace;background-color: #f0f8ff;border: 1px dotted black;border-radius: 0.25em;box-sizing: border-box;margin-bottom: 0.5em;}#sk-container-id-1 div.sk-estimator:hover {background-color: #d4ebff;}#sk-container-id-1 div.sk-parallel-item::after {content: \"\";width: 100%;border-bottom: 1px solid gray;flex-grow: 1;}#sk-container-id-1 div.sk-label:hover label.sk-toggleable__label {background-color: #d4ebff;}#sk-container-id-1 div.sk-serial::before {content: \"\";position: absolute;border-left: 1px solid gray;box-sizing: border-box;top: 0;bottom: 0;left: 50%;z-index: 0;}#sk-container-id-1 div.sk-serial {display: flex;flex-direction: column;align-items: center;background-color: white;padding-right: 0.2em;padding-left: 0.2em;position: relative;}#sk-container-id-1 div.sk-item {position: relative;z-index: 1;}#sk-container-id-1 div.sk-parallel {display: flex;align-items: stretch;justify-content: center;background-color: white;position: relative;}#sk-container-id-1 div.sk-item::before, #sk-container-id-1 div.sk-parallel-item::before {content: \"\";position: absolute;border-left: 1px solid gray;box-sizing: border-box;top: 0;bottom: 0;left: 50%;z-index: -1;}#sk-container-id-1 div.sk-parallel-item {display: flex;flex-direction: column;z-index: 1;position: relative;background-color: white;}#sk-container-id-1 div.sk-parallel-item:first-child::after {align-self: flex-end;width: 50%;}#sk-container-id-1 div.sk-parallel-item:last-child::after {align-self: flex-start;width: 50%;}#sk-container-id-1 div.sk-parallel-item:only-child::after {width: 0;}#sk-container-id-1 div.sk-dashed-wrapped {border: 1px dashed gray;margin: 0 0.4em 0.5em 0.4em;box-sizing: border-box;padding-bottom: 0.4em;background-color: white;}#sk-container-id-1 div.sk-label label {font-family: monospace;font-weight: bold;display: inline-block;line-height: 1.2em;}#sk-container-id-1 div.sk-label-container {text-align: center;}#sk-container-id-1 div.sk-container {/* jupyter's `normalize.less` sets `[hidden] { display: none; }` but bootstrap.min.css set `[hidden] { display: none !important; }` so we also need the `!important` here to be able to override the default hidden behavior on the sphinx rendered scikit-learn.org. See: https://github.com/scikit-learn/scikit-learn/issues/21755 */display: inline-block !important;position: relative;}#sk-container-id-1 div.sk-text-repr-fallback {display: none;}</style><div id=\"sk-container-id-1\" class=\"sk-top-container\"><div class=\"sk-text-repr-fallback\"><pre>LogisticRegression()</pre><b>In a Jupyter environment, please rerun this cell to show the HTML representation or trust the notebook. <br />On GitHub, the HTML representation is unable to render, please try loading this page with nbviewer.org.</b></div><div class=\"sk-container\" hidden><div class=\"sk-item\"><div class=\"sk-estimator sk-toggleable\"><input class=\"sk-toggleable__control sk-hidden--visually\" id=\"sk-estimator-id-1\" type=\"checkbox\" checked><label for=\"sk-estimator-id-1\" class=\"sk-toggleable__label sk-toggleable__label-arrow\">LogisticRegression</label><div class=\"sk-toggleable__content\"><pre>LogisticRegression()</pre></div></div></div></div></div>"
      ],
      "text/plain": [
       "LogisticRegression()"
      ]
     },
     "execution_count": 77,
     "metadata": {},
     "output_type": "execute_result"
    }
   ],
   "source": [
    "# Logistic Regression train\n",
    "logreg = LogisticRegression()\n",
    "logreg.fit(X_train_tfidf, y_train)"
   ]
  },
  {
   "cell_type": "code",
   "execution_count": 78,
   "id": "117c478b-36fe-42cf-aed9-7c9d940edde7",
   "metadata": {},
   "outputs": [],
   "source": [
    "# Prediction for test set\n",
    "y_pred = logreg.predict(X_test_tfidf)"
   ]
  },
  {
   "cell_type": "code",
   "execution_count": 79,
   "id": "7b58110e-14ac-40aa-b4c1-7405ee26b05f",
   "metadata": {},
   "outputs": [
    {
     "name": "stdout",
     "output_type": "stream",
     "text": [
      "Accuracy: 0.7904967602591793\n",
      "              precision    recall  f1-score   support\n",
      "\n",
      "           0       0.79      0.87      0.82       525\n",
      "           1       0.80      0.69      0.74       401\n",
      "\n",
      "    accuracy                           0.79       926\n",
      "   macro avg       0.79      0.78      0.78       926\n",
      "weighted avg       0.79      0.79      0.79       926\n",
      "\n"
     ]
    }
   ],
   "source": [
    "# Model accuracy\n",
    "accuracy = accuracy_score(y_test, y_pred)\n",
    "print(f'Accuracy: {accuracy}')\n",
    "\n",
    "# Additional metrics\n",
    "print(classification_report(y_test, y_pred))"
   ]
  },
  {
   "cell_type": "markdown",
   "id": "5417aa0c-024d-4510-9c87-977aeb251405",
   "metadata": {},
   "source": [
    "## Manual prediction test"
   ]
  },
  {
   "cell_type": "code",
   "execution_count": 86,
   "id": "83a91c78-91be-4269-8998-7324b2e48931",
   "metadata": {},
   "outputs": [
    {
     "data": {
      "text/plain": [
       "1167    1\n",
       "1542    1\n",
       "1103    1\n",
       "1021    1\n",
       "788     0\n",
       "       ..\n",
       "786     0\n",
       "797     0\n",
       "2686    1\n",
       "2913    0\n",
       "2378    0\n",
       "Name: published_flag, Length: 926, dtype: int64"
      ]
     },
     "execution_count": 86,
     "metadata": {},
     "output_type": "execute_result"
    }
   ],
   "source": [
    "y_test"
   ]
  },
  {
   "cell_type": "code",
   "execution_count": 85,
   "id": "21b48e3f-788d-4bd2-a31c-6c13c4fc5090",
   "metadata": {},
   "outputs": [
    {
     "data": {
      "text/plain": [
       "'tencent cloud запускать продукт для рисование с использование искусственный интеллект поддерживать более 25 создать стиль 10 сентябрь it house сообщить что на конференция tencent global digital ecology conference 2023 состояться 7 сентябрь компания tencent cloud официально представить новый продукт для рисование с использование искусственный интеллект который использовать собственный модель рисование с использование искусственный интеллект tencent для обеспечение технология создание и редактирование изображение с использование искусственный интеллект позволять пользователь легко создавать связанный с ввод графический контент на основа ввести текст или изображение согласно официальный сообщение продукт для рисование с использование искусственный интеллект выпустить tencent cloud на этот раз основать на модель алгоритм рисование разработать самостоятельно и специально оптимизировать для возможность создание рисунок в китайский контекст продукт включать в себя такой функция как интеллектуальный wenshengtu и интеллектуальный wenshengtu предоставлять пользователь высокоточный создание изображение и преобразование стиль который поддерживать 25 различный стиль сцена такой как китайский стиль анимация игра и традиционный картина'"
      ]
     },
     "execution_count": 85,
     "metadata": {},
     "output_type": "execute_result"
    }
   ],
   "source": [
    "X_test[1167]"
   ]
  },
  {
   "cell_type": "code",
   "execution_count": 114,
   "id": "924f0b87-9de6-4749-9819-fa4101cb5de7",
   "metadata": {},
   "outputs": [],
   "source": [
    "X_test_1_tfidf = tfidf_vectorizer.transform([X_test.loc[1167]])"
   ]
  },
  {
   "cell_type": "code",
   "execution_count": 115,
   "id": "dbd3cb10-b964-4eac-a9fa-9c918f374643",
   "metadata": {},
   "outputs": [
    {
     "data": {
      "text/plain": [
       "array([1], dtype=int64)"
      ]
     },
     "execution_count": 115,
     "metadata": {},
     "output_type": "execute_result"
    }
   ],
   "source": [
    "y_1_pred = logreg.predict(X_test_1_tfidf)\n",
    "y_1_pred"
   ]
  },
  {
   "cell_type": "code",
   "execution_count": 116,
   "id": "88140145-6296-4cae-b47a-3787e19530c1",
   "metadata": {},
   "outputs": [
    {
     "data": {
      "text/plain": [
       "'аналитик генеративный ия слишком разрекламировать и ожидаться что в 2024 год смежный отрасль быть холодный 10 октябрь аналитический агентство ccs insight сделать прогноз что сфера генеративный ия мочь столкнуться с проверка реальность в следующий год расти а призыв к регулирование ия расти индустрия ия в будущее мочь стать холодный а технологический развитие постепенно быть демонстрировать признак замедление главный прогноз ccs insight на 2024 год заключаться в тот что генеративный ия включиться в 2024 год поскольку затрата и риск связанный с технология ия заменить шумиха вокруг этот технология'"
      ]
     },
     "execution_count": 116,
     "metadata": {},
     "output_type": "execute_result"
    }
   ],
   "source": [
    "X_test[788]"
   ]
  },
  {
   "cell_type": "code",
   "execution_count": 117,
   "id": "43d30c41-29b8-4ef2-a0d8-7080e17b0c95",
   "metadata": {},
   "outputs": [],
   "source": [
    "X_test_0_tfidf = tfidf_vectorizer.transform([X_test.loc[788]])"
   ]
  },
  {
   "cell_type": "code",
   "execution_count": 118,
   "id": "bac5b798-4e39-45b6-9d6e-317aed004829",
   "metadata": {},
   "outputs": [
    {
     "data": {
      "text/plain": [
       "array([0], dtype=int64)"
      ]
     },
     "execution_count": 118,
     "metadata": {},
     "output_type": "execute_result"
    }
   ],
   "source": [
    "y_0_pred = logreg.predict(X_test_0_tfidf)\n",
    "y_0_pred"
   ]
  },
  {
   "cell_type": "markdown",
   "id": "37e1b609-0350-44e8-b4c4-9e6408e212d6",
   "metadata": {},
   "source": [
    "## Save model and vectorizer"
   ]
  },
  {
   "cell_type": "code",
   "execution_count": 120,
   "id": "838a958d-e376-4a6f-a892-a52f1a055513",
   "metadata": {},
   "outputs": [
    {
     "data": {
      "text/plain": [
       "['tfidf_vectorizer.joblib']"
      ]
     },
     "execution_count": 120,
     "metadata": {},
     "output_type": "execute_result"
    }
   ],
   "source": [
    "# Save Logistic Regression model\n",
    "model_filename = 'logreg_model.joblib'\n",
    "joblib.dump(logreg, model_filename)\n",
    "\n",
    "# Save TF-IDF vectorizer\n",
    "tfidf_vectorizer_filename = 'tfidf_vectorizer.joblib'\n",
    "joblib.dump(tfidf_vectorizer, tfidf_vectorizer_filename)"
   ]
  },
  {
   "cell_type": "markdown",
   "id": "eb97d979-7e14-4c3a-8561-04dd4eb7553e",
   "metadata": {},
   "source": [
    "## Upload model and vectorizer "
   ]
  },
  {
   "cell_type": "code",
   "execution_count": 121,
   "id": "b8d9ed2f-ff1f-4c4c-bbf6-ec49a2a7cb97",
   "metadata": {},
   "outputs": [],
   "source": [
    "# Upload Logistic Regression model\n",
    "model_filename = 'logreg_model.joblib'\n",
    "loaded_logreg = joblib.load(model_filename)\n",
    "\n",
    "# Upload TfidfVectorizer\n",
    "tfidf_vectorizer_filename = 'tfidf_vectorizer.joblib'\n",
    "loaded_tfidf_vectorizer = joblib.load(tfidf_vectorizer_filename)"
   ]
  },
  {
   "cell_type": "code",
   "execution_count": 125,
   "id": "3ad8e95b-e7ee-44fd-aab2-a161f0007927",
   "metadata": {},
   "outputs": [
    {
     "name": "stderr",
     "output_type": "stream",
     "text": [
      "Lemmatize: 100%|███████████████████████████| 48/48 [00:00<00:00, 3997.91it/s]"
     ]
    },
    {
     "name": "stdout",
     "output_type": "stream",
     "text": [
      "Prediction: [1]\n",
      "CPU times: total: 125 ms\n",
      "Wall time: 967 ms\n"
     ]
    },
    {
     "name": "stderr",
     "output_type": "stream",
     "text": [
      "\n"
     ]
    }
   ],
   "source": [
    "%%time\n",
    "# Lematization and vectoriztion of new data\n",
    "new_data = [text_pre_processing(\"\"\"Увеличение вычислительной мощности имеет решающее значение для развития новой инфраструктуры Китая, \n",
    "и лидеры хотят, чтобы доступ к сети был таким же обычным явлением, как услуги водоснабжения и электроснабжения. Расширение компьютерных \n",
    "сетей может помочь Китаю разрабатывать полупроводниковые чипы, обрабатывать электронные платежи и лучше использовать искусственный интеллект, \n",
    "такой как чат-боты.\"\"\")]\n",
    "new_data_tfidf = loaded_tfidf_vectorizer.transform(new_data)\n",
    "\n",
    "# Prediction with uploded model\n",
    "prediction = loaded_logreg.predict(new_data_tfidf)\n",
    "\n",
    "# Prediction print\n",
    "print(f'Prediction: {prediction}')"
   ]
  },
  {
   "cell_type": "markdown",
   "id": "527c8db2-c442-4397-b53b-6877e46b1b50",
   "metadata": {},
   "source": [
    "## Possible improvements\n",
    "- To try ELI5. See  [Kaggle example: Logistic regression-Tf-Idf baseline](https://www.kaggle.com/code/kashnitsky/logistic-regression-tf-idf-baseline)\n",
    "- Confusion matrix"
   ]
  },
  {
   "cell_type": "markdown",
   "id": "2ace24bc-65d8-4809-b632-aa3e7b2c6f84",
   "metadata": {},
   "source": [
    "## References"
   ]
  },
  {
   "cell_type": "markdown",
   "id": "e0779608-ac99-4587-89ae-1b5231dcf36c",
   "metadata": {},
   "source": [
    "- [Kaggle example: News Classification with TF-IDF & Machine Learning](https://www.kaggle.com/code/yogiyulianto/news-classification-with-tf-idf-machine-learning)\n",
    "- [Kaggle example: Logistic regression-Tf-Idf baseline](https://www.kaggle.com/code/kashnitsky/logistic-regression-tf-idf-baseline)\n",
    "- [Scikit-learn: 6.2.3. Извлечение текстовых признаков](https://scikit-learn.ru/6-2-feature-extraction/#text-feature-extraction)\n",
    "- [Scikit-learn Tutorial: Working With Text Data](https://scikit-learn.org/stable/tutorial/text_analytics/working_with_text_data.html)  \n",
    "- Rajaraman, A.; Ullman, J.D. (2011). \"Data Mining\" (PDF). Mining of Massive Datasets. pp. 1–17. doi:10.1017/CBO9781139058452.002. ISBN 978-1-139-05845-- http://i.stanford.edu/~ullman/mmds/ch1.pdf\n",
    "- Bracewell, D. B., Yan, J., Ren, F., & Kuroiwa, S. (2009). Category Classification and Topic Discovery of Japanese and English News Articles. Electronic Notes in Theoretical Computer Science, 225(C), 51–65. https://doi.org/10.1016/J.ENTCS.2008.12.066"
   ]
  }
 ],
 "metadata": {
  "kernelspec": {
   "display_name": "Python 3 (ipykernel)",
   "language": "python",
   "name": "python3"
  },
  "language_info": {
   "codemirror_mode": {
    "name": "ipython",
    "version": 3
   },
   "file_extension": ".py",
   "mimetype": "text/x-python",
   "name": "python",
   "nbconvert_exporter": "python",
   "pygments_lexer": "ipython3",
   "version": "3.11.5"
  }
 },
 "nbformat": 4,
 "nbformat_minor": 5
}
